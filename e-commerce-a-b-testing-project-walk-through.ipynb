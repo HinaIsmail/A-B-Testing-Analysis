{
 "cells": [
  {
   "cell_type": "markdown",
   "id": "organizational-electricity",
   "metadata": {
    "_cell_guid": "b1076dfc-b9ad-4769-8c92-a6c4dae69d19",
    "_uuid": "8f2839f25d086af736a60e9eeb907d3b93b6e0e5",
    "execution": {
     "iopub.execute_input": "2021-05-31T22:25:33.641607Z",
     "iopub.status.busy": "2021-05-31T22:25:33.641119Z",
     "iopub.status.idle": "2021-05-31T22:25:33.656008Z",
     "shell.execute_reply": "2021-05-31T22:25:33.654528Z",
     "shell.execute_reply.started": "2021-05-31T22:25:33.641567Z"
    },
    "papermill": {
     "duration": 0.040806,
     "end_time": "2021-06-03T21:53:51.169009",
     "exception": false,
     "start_time": "2021-06-03T21:53:51.128203",
     "status": "completed"
    },
    "tags": []
   },
   "source": [
    "\n",
    "## Table of Contents\n",
    "- [Introduction](#intro)\n",
    "- [Part I - Data Cleaning](#Cleaning)\n",
    "- [Part II - Probability](#probability)\n",
    "- [Part III - A/B Test](#ab_test)\n",
    "- [Part IV - Regression](#regression)\n",
    "\n",
    "\n",
    "\n",
    "\n",
    "\n",
    "\n",
    "<a id='intro'></a>\n",
    "### Introduction\n",
    "\n",
    "A/B tests are very commonly performed by data analysts and data scientists.  It is important that we get some practice working with the difficulties of these.\n",
    "\n",
    "For this project, we will be working to understand the results of an A/B test run by an e-commerce website.  Our goal is to work through this notebook to help the company understand if they should implement the new page, keep the old page, or perhaps run the experiment longer to make their decision.\n",
    "\n"
   ]
  },
  {
   "cell_type": "markdown",
   "id": "dangerous-insurance",
   "metadata": {
    "papermill": {
     "duration": 0.03873,
     "end_time": "2021-06-03T21:53:51.246966",
     "exception": false,
     "start_time": "2021-06-03T21:53:51.208236",
     "status": "completed"
    },
    "tags": []
   },
   "source": [
    "<a id='Cleaning'></a>\n",
    "#### Part I - Data Cleaning \n",
    "\n",
    "To get started, let's import our libraries."
   ]
  },
  {
   "cell_type": "code",
   "execution_count": 1,
   "id": "afraid-injury",
   "metadata": {
    "execution": {
     "iopub.execute_input": "2021-06-03T21:53:51.329952Z",
     "iopub.status.busy": "2021-06-03T21:53:51.328614Z",
     "iopub.status.idle": "2021-06-03T21:53:52.259773Z",
     "shell.execute_reply": "2021-06-03T21:53:52.259056Z",
     "shell.execute_reply.started": "2021-06-03T20:39:31.438626Z"
    },
    "papermill": {
     "duration": 0.97338,
     "end_time": "2021-06-03T21:53:52.259997",
     "exception": false,
     "start_time": "2021-06-03T21:53:51.286617",
     "status": "completed"
    },
    "tags": []
   },
   "outputs": [],
   "source": [
    "import numpy as np # linear algebra\n",
    "import pandas as pd # data processing, CSV file I/O (e.g. pd.read_csv)\n",
    "\n",
    "import matplotlib.pyplot as plt # basic visualizations \n",
    "import seaborn as sns # advanced visualizations\n",
    "\n",
    "import random\n",
    "random.seed(42) #We are setting the seed to assure you get the same answers\n",
    "\n",
    "import warnings\n",
    "warnings.filterwarnings('ignore')"
   ]
  },
  {
   "cell_type": "code",
   "execution_count": 2,
   "id": "recorded-updating",
   "metadata": {
    "execution": {
     "iopub.execute_input": "2021-06-03T21:53:52.343657Z",
     "iopub.status.busy": "2021-06-03T21:53:52.343002Z",
     "iopub.status.idle": "2021-06-03T21:53:52.866484Z",
     "shell.execute_reply": "2021-06-03T21:53:52.867010Z",
     "shell.execute_reply.started": "2021-06-03T20:39:32.303186Z"
    },
    "papermill": {
     "duration": 0.568053,
     "end_time": "2021-06-03T21:53:52.867184",
     "exception": false,
     "start_time": "2021-06-03T21:53:52.299131",
     "status": "completed"
    },
    "tags": []
   },
   "outputs": [
    {
     "data": {
      "text/html": [
       "<div>\n",
       "<style scoped>\n",
       "    .dataframe tbody tr th:only-of-type {\n",
       "        vertical-align: middle;\n",
       "    }\n",
       "\n",
       "    .dataframe tbody tr th {\n",
       "        vertical-align: top;\n",
       "    }\n",
       "\n",
       "    .dataframe thead th {\n",
       "        text-align: right;\n",
       "    }\n",
       "</style>\n",
       "<table border=\"1\" class=\"dataframe\">\n",
       "  <thead>\n",
       "    <tr style=\"text-align: right;\">\n",
       "      <th></th>\n",
       "      <th>id</th>\n",
       "      <th>time</th>\n",
       "      <th>con_treat</th>\n",
       "      <th>page</th>\n",
       "      <th>converted</th>\n",
       "    </tr>\n",
       "  </thead>\n",
       "  <tbody>\n",
       "    <tr>\n",
       "      <th>0</th>\n",
       "      <td>851104</td>\n",
       "      <td>11:48.6</td>\n",
       "      <td>control</td>\n",
       "      <td>old_page</td>\n",
       "      <td>0</td>\n",
       "    </tr>\n",
       "    <tr>\n",
       "      <th>1</th>\n",
       "      <td>804228</td>\n",
       "      <td>01:45.2</td>\n",
       "      <td>control</td>\n",
       "      <td>old_page</td>\n",
       "      <td>0</td>\n",
       "    </tr>\n",
       "    <tr>\n",
       "      <th>2</th>\n",
       "      <td>661590</td>\n",
       "      <td>55:06.2</td>\n",
       "      <td>treatment</td>\n",
       "      <td>new_page</td>\n",
       "      <td>0</td>\n",
       "    </tr>\n",
       "    <tr>\n",
       "      <th>3</th>\n",
       "      <td>853541</td>\n",
       "      <td>28:03.1</td>\n",
       "      <td>treatment</td>\n",
       "      <td>new_page</td>\n",
       "      <td>0</td>\n",
       "    </tr>\n",
       "    <tr>\n",
       "      <th>4</th>\n",
       "      <td>864975</td>\n",
       "      <td>52:26.2</td>\n",
       "      <td>control</td>\n",
       "      <td>old_page</td>\n",
       "      <td>1</td>\n",
       "    </tr>\n",
       "  </tbody>\n",
       "</table>\n",
       "</div>"
      ],
      "text/plain": [
       "       id     time  con_treat      page  converted\n",
       "0  851104  11:48.6    control  old_page          0\n",
       "1  804228  01:45.2    control  old_page          0\n",
       "2  661590  55:06.2  treatment  new_page          0\n",
       "3  853541  28:03.1  treatment  new_page          0\n",
       "4  864975  52:26.2    control  old_page          1"
      ]
     },
     "execution_count": 2,
     "metadata": {},
     "output_type": "execute_result"
    }
   ],
   "source": [
    "#read the data and display the top 5 rows\n",
    "df = pd.read_csv(\"../input/ecommerce-ab-testing/ab_test.csv\")\n",
    "df.head()"
   ]
  },
  {
   "cell_type": "code",
   "execution_count": 3,
   "id": "insured-eugene",
   "metadata": {
    "execution": {
     "iopub.execute_input": "2021-06-03T21:53:52.961978Z",
     "iopub.status.busy": "2021-06-03T21:53:52.961007Z",
     "iopub.status.idle": "2021-06-03T21:53:52.966136Z",
     "shell.execute_reply": "2021-06-03T21:53:52.966590Z",
     "shell.execute_reply.started": "2021-06-03T20:39:32.689497Z"
    },
    "papermill": {
     "duration": 0.058743,
     "end_time": "2021-06-03T21:53:52.966785",
     "exception": false,
     "start_time": "2021-06-03T21:53:52.908042",
     "status": "completed"
    },
    "tags": []
   },
   "outputs": [
    {
     "data": {
      "text/html": [
       "<div>\n",
       "<style scoped>\n",
       "    .dataframe tbody tr th:only-of-type {\n",
       "        vertical-align: middle;\n",
       "    }\n",
       "\n",
       "    .dataframe tbody tr th {\n",
       "        vertical-align: top;\n",
       "    }\n",
       "\n",
       "    .dataframe thead th {\n",
       "        text-align: right;\n",
       "    }\n",
       "</style>\n",
       "<table border=\"1\" class=\"dataframe\">\n",
       "  <thead>\n",
       "    <tr style=\"text-align: right;\">\n",
       "      <th></th>\n",
       "      <th>user_id</th>\n",
       "      <th>timestamp</th>\n",
       "      <th>group</th>\n",
       "      <th>landing_page</th>\n",
       "      <th>converted</th>\n",
       "    </tr>\n",
       "  </thead>\n",
       "  <tbody>\n",
       "    <tr>\n",
       "      <th>0</th>\n",
       "      <td>851104</td>\n",
       "      <td>11:48.6</td>\n",
       "      <td>control</td>\n",
       "      <td>old_page</td>\n",
       "      <td>0</td>\n",
       "    </tr>\n",
       "    <tr>\n",
       "      <th>1</th>\n",
       "      <td>804228</td>\n",
       "      <td>01:45.2</td>\n",
       "      <td>control</td>\n",
       "      <td>old_page</td>\n",
       "      <td>0</td>\n",
       "    </tr>\n",
       "    <tr>\n",
       "      <th>2</th>\n",
       "      <td>661590</td>\n",
       "      <td>55:06.2</td>\n",
       "      <td>treatment</td>\n",
       "      <td>new_page</td>\n",
       "      <td>0</td>\n",
       "    </tr>\n",
       "    <tr>\n",
       "      <th>3</th>\n",
       "      <td>853541</td>\n",
       "      <td>28:03.1</td>\n",
       "      <td>treatment</td>\n",
       "      <td>new_page</td>\n",
       "      <td>0</td>\n",
       "    </tr>\n",
       "    <tr>\n",
       "      <th>4</th>\n",
       "      <td>864975</td>\n",
       "      <td>52:26.2</td>\n",
       "      <td>control</td>\n",
       "      <td>old_page</td>\n",
       "      <td>1</td>\n",
       "    </tr>\n",
       "  </tbody>\n",
       "</table>\n",
       "</div>"
      ],
      "text/plain": [
       "   user_id timestamp      group landing_page  converted\n",
       "0   851104   11:48.6    control     old_page          0\n",
       "1   804228   01:45.2    control     old_page          0\n",
       "2   661590   55:06.2  treatment     new_page          0\n",
       "3   853541   28:03.1  treatment     new_page          0\n",
       "4   864975   52:26.2    control     old_page          1"
      ]
     },
     "execution_count": 3,
     "metadata": {},
     "output_type": "execute_result"
    }
   ],
   "source": [
    "# change column names \n",
    "df.columns = [\"user_id\", \"timestamp\", \"group\", \"landing_page\", \"converted\"]\n",
    "df.head()"
   ]
  },
  {
   "cell_type": "code",
   "execution_count": 4,
   "id": "southern-classic",
   "metadata": {
    "execution": {
     "iopub.execute_input": "2021-06-03T21:53:53.056991Z",
     "iopub.status.busy": "2021-06-03T21:53:53.056262Z",
     "iopub.status.idle": "2021-06-03T21:53:53.088689Z",
     "shell.execute_reply": "2021-06-03T21:53:53.089180Z",
     "shell.execute_reply.started": "2021-06-03T20:39:32.702854Z"
    },
    "papermill": {
     "duration": 0.079883,
     "end_time": "2021-06-03T21:53:53.089367",
     "exception": false,
     "start_time": "2021-06-03T21:53:53.009484",
     "status": "completed"
    },
    "tags": []
   },
   "outputs": [
    {
     "name": "stdout",
     "output_type": "stream",
     "text": [
      "Number of rows: 294478\n",
      "Number of unique users: 290584\n"
     ]
    }
   ],
   "source": [
    "#numer of rows and unique users\n",
    "print(f'Number of rows: {df.shape[0]}')\n",
    "print(f'Number of unique users: {df.user_id.nunique()}')"
   ]
  },
  {
   "cell_type": "code",
   "execution_count": 5,
   "id": "explicit-walter",
   "metadata": {
    "execution": {
     "iopub.execute_input": "2021-06-03T21:53:53.258143Z",
     "iopub.status.busy": "2021-06-03T21:53:53.257441Z",
     "iopub.status.idle": "2021-06-03T21:53:53.278692Z",
     "shell.execute_reply": "2021-06-03T21:53:53.279447Z",
     "shell.execute_reply.started": "2021-06-03T20:39:32.742537Z"
    },
    "papermill": {
     "duration": 0.147628,
     "end_time": "2021-06-03T21:53:53.279696",
     "exception": false,
     "start_time": "2021-06-03T21:53:53.132068",
     "status": "completed"
    },
    "tags": []
   },
   "outputs": [
    {
     "name": "stdout",
     "output_type": "stream",
     "text": [
      "<class 'pandas.core.frame.DataFrame'>\n",
      "RangeIndex: 294478 entries, 0 to 294477\n",
      "Data columns (total 5 columns):\n",
      " #   Column        Non-Null Count   Dtype \n",
      "---  ------        --------------   ----- \n",
      " 0   user_id       294478 non-null  int64 \n",
      " 1   timestamp     294478 non-null  object\n",
      " 2   group         294478 non-null  object\n",
      " 3   landing_page  294478 non-null  object\n",
      " 4   converted     294478 non-null  int64 \n",
      "dtypes: int64(2), object(3)\n",
      "memory usage: 11.2+ MB\n"
     ]
    }
   ],
   "source": [
    "#general info\n",
    "df.info()"
   ]
  },
  {
   "cell_type": "code",
   "execution_count": 6,
   "id": "defensive-currency",
   "metadata": {
    "execution": {
     "iopub.execute_input": "2021-06-03T21:53:53.367569Z",
     "iopub.status.busy": "2021-06-03T21:53:53.366927Z",
     "iopub.status.idle": "2021-06-03T21:53:53.458677Z",
     "shell.execute_reply": "2021-06-03T21:53:53.458062Z",
     "shell.execute_reply.started": "2021-06-03T20:39:32.803284Z"
    },
    "papermill": {
     "duration": 0.137583,
     "end_time": "2021-06-03T21:53:53.458836",
     "exception": false,
     "start_time": "2021-06-03T21:53:53.321253",
     "status": "completed"
    },
    "tags": []
   },
   "outputs": [
    {
     "data": {
      "text/plain": [
       "user_id         0\n",
       "timestamp       0\n",
       "group           0\n",
       "landing_page    0\n",
       "converted       0\n",
       "dtype: int64"
      ]
     },
     "execution_count": 6,
     "metadata": {},
     "output_type": "execute_result"
    }
   ],
   "source": [
    "#missing values\n",
    "df.isna().sum()"
   ]
  },
  {
   "cell_type": "code",
   "execution_count": 7,
   "id": "harmful-board",
   "metadata": {
    "execution": {
     "iopub.execute_input": "2021-06-03T21:53:53.588183Z",
     "iopub.status.busy": "2021-06-03T21:53:53.587486Z",
     "iopub.status.idle": "2021-06-03T21:53:53.664596Z",
     "shell.execute_reply": "2021-06-03T21:53:53.664069Z",
     "shell.execute_reply.started": "2021-06-03T20:39:32.854905Z"
    },
    "papermill": {
     "duration": 0.163566,
     "end_time": "2021-06-03T21:53:53.664801",
     "exception": false,
     "start_time": "2021-06-03T21:53:53.501235",
     "status": "completed"
    },
    "tags": []
   },
   "outputs": [
    {
     "data": {
      "text/html": [
       "<div>\n",
       "<style scoped>\n",
       "    .dataframe tbody tr th:only-of-type {\n",
       "        vertical-align: middle;\n",
       "    }\n",
       "\n",
       "    .dataframe tbody tr th {\n",
       "        vertical-align: top;\n",
       "    }\n",
       "\n",
       "    .dataframe thead th {\n",
       "        text-align: right;\n",
       "    }\n",
       "</style>\n",
       "<table border=\"1\" class=\"dataframe\">\n",
       "  <thead>\n",
       "    <tr style=\"text-align: right;\">\n",
       "      <th></th>\n",
       "      <th>N treatment</th>\n",
       "      <th>N new_page</th>\n",
       "      <th>Difference</th>\n",
       "    </tr>\n",
       "  </thead>\n",
       "  <tbody>\n",
       "    <tr>\n",
       "      <th>0</th>\n",
       "      <td>147276</td>\n",
       "      <td>147239</td>\n",
       "      <td>37</td>\n",
       "    </tr>\n",
       "  </tbody>\n",
       "</table>\n",
       "</div>"
      ],
      "text/plain": [
       "   N treatment  N new_page  Difference\n",
       "0       147276      147239          37"
      ]
     },
     "execution_count": 7,
     "metadata": {},
     "output_type": "execute_result"
    }
   ],
   "source": [
    "#Does the number of new_page and treatment match?\n",
    "n_treat = df[df[\"group\"] == \"treatment\"].shape[0]\n",
    "n_new_page = df[df[\"landing_page\"] == \"new_page\"].shape[0]\n",
    "difference = n_treat - n_new_page\n",
    "\n",
    "pd.DataFrame({\n",
    "    'N treatment': [n_treat],\n",
    "    'N new_page': [n_new_page],\n",
    "    'Difference': [difference]\n",
    "})"
   ]
  },
  {
   "cell_type": "markdown",
   "id": "criminal-lithuania",
   "metadata": {
    "papermill": {
     "duration": 0.04176,
     "end_time": "2021-06-03T21:53:53.747810",
     "exception": false,
     "start_time": "2021-06-03T21:53:53.706050",
     "status": "completed"
    },
    "tags": []
   },
   "source": [
    "There is mismatch between number of users assigned to treatment and the number of those landed on treatment page. This might indicate a problem with the data and needs further exploration."
   ]
  },
  {
   "cell_type": "code",
   "execution_count": 8,
   "id": "normal-washer",
   "metadata": {
    "execution": {
     "iopub.execute_input": "2021-06-03T21:53:53.920380Z",
     "iopub.status.busy": "2021-06-03T21:53:53.919641Z",
     "iopub.status.idle": "2021-06-03T21:53:53.937549Z",
     "shell.execute_reply": "2021-06-03T21:53:53.936937Z",
     "shell.execute_reply.started": "2021-06-03T20:39:33.201041Z"
    },
    "papermill": {
     "duration": 0.146937,
     "end_time": "2021-06-03T21:53:53.937689",
     "exception": false,
     "start_time": "2021-06-03T21:53:53.790752",
     "status": "completed"
    },
    "tags": []
   },
   "outputs": [
    {
     "data": {
      "text/html": [
       "<div>\n",
       "<style scoped>\n",
       "    .dataframe tbody tr th:only-of-type {\n",
       "        vertical-align: middle;\n",
       "    }\n",
       "\n",
       "    .dataframe tbody tr th {\n",
       "        vertical-align: top;\n",
       "    }\n",
       "\n",
       "    .dataframe thead th {\n",
       "        text-align: right;\n",
       "    }\n",
       "</style>\n",
       "<table border=\"1\" class=\"dataframe\">\n",
       "  <thead>\n",
       "    <tr style=\"text-align: right;\">\n",
       "      <th></th>\n",
       "      <th>user_id</th>\n",
       "      <th>timestamp</th>\n",
       "      <th>group</th>\n",
       "      <th>landing_page</th>\n",
       "      <th>converted</th>\n",
       "    </tr>\n",
       "  </thead>\n",
       "  <tbody>\n",
       "    <tr>\n",
       "      <th>308</th>\n",
       "      <td>857184</td>\n",
       "      <td>34:59.8</td>\n",
       "      <td>treatment</td>\n",
       "      <td>old_page</td>\n",
       "      <td>0</td>\n",
       "    </tr>\n",
       "    <tr>\n",
       "      <th>327</th>\n",
       "      <td>686623</td>\n",
       "      <td>26:40.7</td>\n",
       "      <td>treatment</td>\n",
       "      <td>old_page</td>\n",
       "      <td>0</td>\n",
       "    </tr>\n",
       "    <tr>\n",
       "      <th>357</th>\n",
       "      <td>856078</td>\n",
       "      <td>29:30.4</td>\n",
       "      <td>treatment</td>\n",
       "      <td>old_page</td>\n",
       "      <td>0</td>\n",
       "    </tr>\n",
       "    <tr>\n",
       "      <th>685</th>\n",
       "      <td>666385</td>\n",
       "      <td>11:54.8</td>\n",
       "      <td>treatment</td>\n",
       "      <td>old_page</td>\n",
       "      <td>0</td>\n",
       "    </tr>\n",
       "    <tr>\n",
       "      <th>713</th>\n",
       "      <td>748761</td>\n",
       "      <td>47:44.4</td>\n",
       "      <td>treatment</td>\n",
       "      <td>old_page</td>\n",
       "      <td>0</td>\n",
       "    </tr>\n",
       "    <tr>\n",
       "      <th>...</th>\n",
       "      <td>...</td>\n",
       "      <td>...</td>\n",
       "      <td>...</td>\n",
       "      <td>...</td>\n",
       "      <td>...</td>\n",
       "    </tr>\n",
       "    <tr>\n",
       "      <th>293773</th>\n",
       "      <td>688144</td>\n",
       "      <td>34:50.5</td>\n",
       "      <td>treatment</td>\n",
       "      <td>old_page</td>\n",
       "      <td>1</td>\n",
       "    </tr>\n",
       "    <tr>\n",
       "      <th>293817</th>\n",
       "      <td>876037</td>\n",
       "      <td>15:09.0</td>\n",
       "      <td>treatment</td>\n",
       "      <td>old_page</td>\n",
       "      <td>1</td>\n",
       "    </tr>\n",
       "    <tr>\n",
       "      <th>293917</th>\n",
       "      <td>738357</td>\n",
       "      <td>37:55.7</td>\n",
       "      <td>treatment</td>\n",
       "      <td>old_page</td>\n",
       "      <td>0</td>\n",
       "    </tr>\n",
       "    <tr>\n",
       "      <th>294014</th>\n",
       "      <td>813406</td>\n",
       "      <td>25:33.2</td>\n",
       "      <td>treatment</td>\n",
       "      <td>old_page</td>\n",
       "      <td>0</td>\n",
       "    </tr>\n",
       "    <tr>\n",
       "      <th>294252</th>\n",
       "      <td>892498</td>\n",
       "      <td>11:10.5</td>\n",
       "      <td>treatment</td>\n",
       "      <td>old_page</td>\n",
       "      <td>0</td>\n",
       "    </tr>\n",
       "  </tbody>\n",
       "</table>\n",
       "<p>1965 rows × 5 columns</p>\n",
       "</div>"
      ],
      "text/plain": [
       "        user_id timestamp      group landing_page  converted\n",
       "308      857184   34:59.8  treatment     old_page          0\n",
       "327      686623   26:40.7  treatment     old_page          0\n",
       "357      856078   29:30.4  treatment     old_page          0\n",
       "685      666385   11:54.8  treatment     old_page          0\n",
       "713      748761   47:44.4  treatment     old_page          0\n",
       "...         ...       ...        ...          ...        ...\n",
       "293773   688144   34:50.5  treatment     old_page          1\n",
       "293817   876037   15:09.0  treatment     old_page          1\n",
       "293917   738357   37:55.7  treatment     old_page          0\n",
       "294014   813406   25:33.2  treatment     old_page          0\n",
       "294252   892498   11:10.5  treatment     old_page          0\n",
       "\n",
       "[1965 rows x 5 columns]"
      ]
     },
     "execution_count": 8,
     "metadata": {},
     "output_type": "execute_result"
    }
   ],
   "source": [
    "# lets see those rows \n",
    "df[(df[\"group\"] == \"treatment\") & (df[\"landing_page\"] == \"old_page\")]"
   ]
  },
  {
   "cell_type": "code",
   "execution_count": 9,
   "id": "verified-sally",
   "metadata": {
    "execution": {
     "iopub.execute_input": "2021-06-03T21:53:54.110477Z",
     "iopub.status.busy": "2021-06-03T21:53:54.109770Z",
     "iopub.status.idle": "2021-06-03T21:53:54.201100Z",
     "shell.execute_reply": "2021-06-03T21:53:54.201766Z",
     "shell.execute_reply.started": "2021-06-03T20:39:33.427147Z"
    },
    "papermill": {
     "duration": 0.222082,
     "end_time": "2021-06-03T21:53:54.202020",
     "exception": false,
     "start_time": "2021-06-03T21:53:53.979938",
     "status": "completed"
    },
    "tags": []
   },
   "outputs": [
    {
     "name": "stdout",
     "output_type": "stream",
     "text": [
      "Number of mismatched rows: 3893 rows\n",
      "Percent of mismatched rows: 1.32 percent\n"
     ]
    }
   ],
   "source": [
    "df_mismatch = df[(df[\"group\"] == \"treatment\") & (df[\"landing_page\"] == \"old_page\")\n",
    "               |(df[\"group\"] == \"control\") & (df[\"landing_page\"] == \"new_page\")]\n",
    "\n",
    "n_mismatch = df_mismatch.shape[0]\n",
    "\n",
    "percent_mismatch = round(n_mismatch / len(df) * 100, 2)\n",
    "print(f'Number of mismatched rows: {n_mismatch} rows')\n",
    "print(f'Percent of mismatched rows: {percent_mismatch} percent')"
   ]
  },
  {
   "cell_type": "markdown",
   "id": "least-watch",
   "metadata": {
    "papermill": {
     "duration": 0.041713,
     "end_time": "2021-06-03T21:53:54.286156",
     "exception": false,
     "start_time": "2021-06-03T21:53:54.244443",
     "status": "completed"
    },
    "tags": []
   },
   "source": [
    "As you can see, there are 3893 rows where treatment does not match with new_page or control does not match with old_page, we cannot be sure if this row truly received the new or old page. How we will deal with those rows?"
   ]
  },
  {
   "cell_type": "code",
   "execution_count": 10,
   "id": "adjusted-prison",
   "metadata": {
    "execution": {
     "iopub.execute_input": "2021-06-03T21:53:54.456701Z",
     "iopub.status.busy": "2021-06-03T21:53:54.414379Z",
     "iopub.status.idle": "2021-06-03T21:53:54.571065Z",
     "shell.execute_reply": "2021-06-03T21:53:54.570440Z",
     "shell.execute_reply.started": "2021-06-03T20:39:34.500498Z"
    },
    "papermill": {
     "duration": 0.242752,
     "end_time": "2021-06-03T21:53:54.571210",
     "exception": false,
     "start_time": "2021-06-03T21:53:54.328458",
     "status": "completed"
    },
    "tags": []
   },
   "outputs": [
    {
     "data": {
      "text/plain": [
       "290585"
      ]
     },
     "execution_count": 10,
     "metadata": {},
     "output_type": "execute_result"
    }
   ],
   "source": [
    "df2 = df[(df[\"group\"] == \"treatment\") & (df[\"landing_page\"] == \"new_page\")\n",
    "        |(df[\"group\"] == \"control\") & (df[\"landing_page\"] == \"old_page\")]\n",
    "\n",
    "len(df2)"
   ]
  },
  {
   "cell_type": "code",
   "execution_count": 11,
   "id": "active-drilling",
   "metadata": {
    "execution": {
     "iopub.execute_input": "2021-06-03T21:53:54.667408Z",
     "iopub.status.busy": "2021-06-03T21:53:54.666409Z",
     "iopub.status.idle": "2021-06-03T21:53:54.671121Z",
     "shell.execute_reply": "2021-06-03T21:53:54.670591Z",
     "shell.execute_reply.started": "2021-06-03T20:39:34.780998Z"
    },
    "papermill": {
     "duration": 0.057818,
     "end_time": "2021-06-03T21:53:54.671268",
     "exception": false,
     "start_time": "2021-06-03T21:53:54.613450",
     "status": "completed"
    },
    "tags": []
   },
   "outputs": [
    {
     "data": {
      "text/html": [
       "<div>\n",
       "<style scoped>\n",
       "    .dataframe tbody tr th:only-of-type {\n",
       "        vertical-align: middle;\n",
       "    }\n",
       "\n",
       "    .dataframe tbody tr th {\n",
       "        vertical-align: top;\n",
       "    }\n",
       "\n",
       "    .dataframe thead th {\n",
       "        text-align: right;\n",
       "    }\n",
       "</style>\n",
       "<table border=\"1\" class=\"dataframe\">\n",
       "  <thead>\n",
       "    <tr style=\"text-align: right;\">\n",
       "      <th></th>\n",
       "      <th>user_id</th>\n",
       "      <th>timestamp</th>\n",
       "      <th>group</th>\n",
       "      <th>landing_page</th>\n",
       "      <th>converted</th>\n",
       "    </tr>\n",
       "  </thead>\n",
       "  <tbody>\n",
       "    <tr>\n",
       "      <th>0</th>\n",
       "      <td>851104</td>\n",
       "      <td>11:48.6</td>\n",
       "      <td>control</td>\n",
       "      <td>old_page</td>\n",
       "      <td>0</td>\n",
       "    </tr>\n",
       "    <tr>\n",
       "      <th>1</th>\n",
       "      <td>804228</td>\n",
       "      <td>01:45.2</td>\n",
       "      <td>control</td>\n",
       "      <td>old_page</td>\n",
       "      <td>0</td>\n",
       "    </tr>\n",
       "    <tr>\n",
       "      <th>2</th>\n",
       "      <td>661590</td>\n",
       "      <td>55:06.2</td>\n",
       "      <td>treatment</td>\n",
       "      <td>new_page</td>\n",
       "      <td>0</td>\n",
       "    </tr>\n",
       "    <tr>\n",
       "      <th>3</th>\n",
       "      <td>853541</td>\n",
       "      <td>28:03.1</td>\n",
       "      <td>treatment</td>\n",
       "      <td>new_page</td>\n",
       "      <td>0</td>\n",
       "    </tr>\n",
       "    <tr>\n",
       "      <th>4</th>\n",
       "      <td>864975</td>\n",
       "      <td>52:26.2</td>\n",
       "      <td>control</td>\n",
       "      <td>old_page</td>\n",
       "      <td>1</td>\n",
       "    </tr>\n",
       "  </tbody>\n",
       "</table>\n",
       "</div>"
      ],
      "text/plain": [
       "   user_id timestamp      group landing_page  converted\n",
       "0   851104   11:48.6    control     old_page          0\n",
       "1   804228   01:45.2    control     old_page          0\n",
       "2   661590   55:06.2  treatment     new_page          0\n",
       "3   853541   28:03.1  treatment     new_page          0\n",
       "4   864975   52:26.2    control     old_page          1"
      ]
     },
     "execution_count": 11,
     "metadata": {},
     "output_type": "execute_result"
    }
   ],
   "source": [
    "df2.head()"
   ]
  },
  {
   "cell_type": "code",
   "execution_count": 12,
   "id": "passing-corner",
   "metadata": {
    "execution": {
     "iopub.execute_input": "2021-06-03T21:53:54.843984Z",
     "iopub.status.busy": "2021-06-03T21:53:54.843271Z",
     "iopub.status.idle": "2021-06-03T21:53:54.868430Z",
     "shell.execute_reply": "2021-06-03T21:53:54.867680Z",
     "shell.execute_reply.started": "2021-06-03T20:39:35.729649Z"
    },
    "papermill": {
     "duration": 0.153373,
     "end_time": "2021-06-03T21:53:54.868601",
     "exception": false,
     "start_time": "2021-06-03T21:53:54.715228",
     "status": "completed"
    },
    "tags": []
   },
   "outputs": [
    {
     "data": {
      "text/plain": [
       "0"
      ]
     },
     "execution_count": 12,
     "metadata": {},
     "output_type": "execute_result"
    }
   ],
   "source": [
    "# Double Check all of the correct rows were removed - this should be 0\n",
    "df2[((df2['group'] == 'treatment') == (df2['landing_page'] == 'new_page')) == False].shape[0]"
   ]
  },
  {
   "cell_type": "code",
   "execution_count": 13,
   "id": "collect-agency",
   "metadata": {
    "execution": {
     "iopub.execute_input": "2021-06-03T21:53:55.045687Z",
     "iopub.status.busy": "2021-06-03T21:53:55.044731Z",
     "iopub.status.idle": "2021-06-03T21:53:55.134596Z",
     "shell.execute_reply": "2021-06-03T21:53:55.133914Z",
     "shell.execute_reply.started": "2021-06-03T20:39:36.690166Z"
    },
    "papermill": {
     "duration": 0.221093,
     "end_time": "2021-06-03T21:53:55.134747",
     "exception": false,
     "start_time": "2021-06-03T21:53:54.913654",
     "status": "completed"
    },
    "tags": []
   },
   "outputs": [
    {
     "name": "stdout",
     "output_type": "stream",
     "text": [
      "Number of mismatched rows: 0 rows\n",
      "Percent of mismatched rows: 0.0 percent\n"
     ]
    }
   ],
   "source": [
    "# Another way to double Check all of the correct rows were removed \n",
    "df_mismatch = df2[(df2[\"group\"] == \"treatment\") & (df2[\"landing_page\"] == \"old_page\")\n",
    "               |(df2[\"group\"] == \"control\") & (df2[\"landing_page\"] == \"new_page\")]\n",
    "\n",
    "n_mismatch = df_mismatch.shape[0]\n",
    "\n",
    "percent_mismatch = round(n_mismatch / len(df2) * 100, 2)\n",
    "print(f'Number of mismatched rows: {n_mismatch} rows')\n",
    "print(f'Percent of mismatched rows: {percent_mismatch} percent')"
   ]
  },
  {
   "cell_type": "code",
   "execution_count": 14,
   "id": "senior-beauty",
   "metadata": {
    "execution": {
     "iopub.execute_input": "2021-06-03T21:53:55.227471Z",
     "iopub.status.busy": "2021-06-03T21:53:55.226727Z",
     "iopub.status.idle": "2021-06-03T21:53:55.257123Z",
     "shell.execute_reply": "2021-06-03T21:53:55.256380Z",
     "shell.execute_reply.started": "2021-06-03T20:39:38.03642Z"
    },
    "papermill": {
     "duration": 0.07847,
     "end_time": "2021-06-03T21:53:55.257305",
     "exception": false,
     "start_time": "2021-06-03T21:53:55.178835",
     "status": "completed"
    },
    "tags": []
   },
   "outputs": [
    {
     "data": {
      "text/plain": [
       "290584"
      ]
     },
     "execution_count": 14,
     "metadata": {},
     "output_type": "execute_result"
    }
   ],
   "source": [
    "# unique user id in df2 \n",
    "df2.user_id.nunique()"
   ]
  },
  {
   "cell_type": "code",
   "execution_count": 15,
   "id": "residential-examination",
   "metadata": {
    "execution": {
     "iopub.execute_input": "2021-06-03T21:53:55.353468Z",
     "iopub.status.busy": "2021-06-03T21:53:55.352706Z",
     "iopub.status.idle": "2021-06-03T21:53:55.379787Z",
     "shell.execute_reply": "2021-06-03T21:53:55.379211Z",
     "shell.execute_reply.started": "2021-06-03T20:39:38.251675Z"
    },
    "papermill": {
     "duration": 0.078148,
     "end_time": "2021-06-03T21:53:55.379970",
     "exception": false,
     "start_time": "2021-06-03T21:53:55.301822",
     "status": "completed"
    },
    "tags": []
   },
   "outputs": [
    {
     "data": {
      "text/plain": [
       "1"
      ]
     },
     "execution_count": 15,
     "metadata": {},
     "output_type": "execute_result"
    }
   ],
   "source": [
    "# number of repeated ids in df2\n",
    "len(df2) - df2.user_id.nunique()"
   ]
  },
  {
   "cell_type": "code",
   "execution_count": 16,
   "id": "genuine-xerox",
   "metadata": {
    "execution": {
     "iopub.execute_input": "2021-06-03T21:53:55.476436Z",
     "iopub.status.busy": "2021-06-03T21:53:55.475732Z",
     "iopub.status.idle": "2021-06-03T21:53:55.529954Z",
     "shell.execute_reply": "2021-06-03T21:53:55.529362Z",
     "shell.execute_reply.started": "2021-06-03T20:39:38.415092Z"
    },
    "papermill": {
     "duration": 0.104515,
     "end_time": "2021-06-03T21:53:55.530107",
     "exception": false,
     "start_time": "2021-06-03T21:53:55.425592",
     "status": "completed"
    },
    "tags": []
   },
   "outputs": [
    {
     "data": {
      "text/html": [
       "<div>\n",
       "<style scoped>\n",
       "    .dataframe tbody tr th:only-of-type {\n",
       "        vertical-align: middle;\n",
       "    }\n",
       "\n",
       "    .dataframe tbody tr th {\n",
       "        vertical-align: top;\n",
       "    }\n",
       "\n",
       "    .dataframe thead th {\n",
       "        text-align: right;\n",
       "    }\n",
       "</style>\n",
       "<table border=\"1\" class=\"dataframe\">\n",
       "  <thead>\n",
       "    <tr style=\"text-align: right;\">\n",
       "      <th></th>\n",
       "      <th>user_id</th>\n",
       "      <th>timestamp</th>\n",
       "      <th>group</th>\n",
       "      <th>landing_page</th>\n",
       "      <th>converted</th>\n",
       "    </tr>\n",
       "  </thead>\n",
       "  <tbody>\n",
       "    <tr>\n",
       "      <th>2893</th>\n",
       "      <td>773192</td>\n",
       "      <td>55:59.6</td>\n",
       "      <td>treatment</td>\n",
       "      <td>new_page</td>\n",
       "      <td>0</td>\n",
       "    </tr>\n",
       "  </tbody>\n",
       "</table>\n",
       "</div>"
      ],
      "text/plain": [
       "      user_id timestamp      group landing_page  converted\n",
       "2893   773192   55:59.6  treatment     new_page          0"
      ]
     },
     "execution_count": 16,
     "metadata": {},
     "output_type": "execute_result"
    }
   ],
   "source": [
    "# Display the duplicated row \n",
    "df2[df2.duplicated(\"user_id\") == True]"
   ]
  },
  {
   "cell_type": "code",
   "execution_count": 17,
   "id": "drawn-ukraine",
   "metadata": {
    "execution": {
     "iopub.execute_input": "2021-06-03T21:53:55.627228Z",
     "iopub.status.busy": "2021-06-03T21:53:55.626546Z",
     "iopub.status.idle": "2021-06-03T21:53:55.692260Z",
     "shell.execute_reply": "2021-06-03T21:53:55.691537Z",
     "shell.execute_reply.started": "2021-06-03T20:39:39.817182Z"
    },
    "papermill": {
     "duration": 0.115342,
     "end_time": "2021-06-03T21:53:55.692414",
     "exception": false,
     "start_time": "2021-06-03T21:53:55.577072",
     "status": "completed"
    },
    "tags": []
   },
   "outputs": [],
   "source": [
    "#drop the duplicated row\n",
    "df2 = df2.drop_duplicates(\"user_id\") "
   ]
  },
  {
   "cell_type": "code",
   "execution_count": 18,
   "id": "emerging-outline",
   "metadata": {
    "execution": {
     "iopub.execute_input": "2021-06-03T21:53:55.789701Z",
     "iopub.status.busy": "2021-06-03T21:53:55.788998Z",
     "iopub.status.idle": "2021-06-03T21:53:55.817461Z",
     "shell.execute_reply": "2021-06-03T21:53:55.817984Z",
     "shell.execute_reply.started": "2021-06-03T20:39:40.15427Z"
    },
    "papermill": {
     "duration": 0.079479,
     "end_time": "2021-06-03T21:53:55.818164",
     "exception": false,
     "start_time": "2021-06-03T21:53:55.738685",
     "status": "completed"
    },
    "tags": []
   },
   "outputs": [
    {
     "data": {
      "text/plain": [
       "0"
      ]
     },
     "execution_count": 18,
     "metadata": {},
     "output_type": "execute_result"
    }
   ],
   "source": [
    "# Douple Check that it is actually dropped\n",
    "len(df2) - df2.user_id.nunique()"
   ]
  },
  {
   "cell_type": "markdown",
   "id": "downtown-arabic",
   "metadata": {
    "execution": {
     "iopub.execute_input": "2021-06-01T16:51:59.274104Z",
     "iopub.status.busy": "2021-06-01T16:51:59.273778Z",
     "iopub.status.idle": "2021-06-01T16:51:59.279741Z",
     "shell.execute_reply": "2021-06-01T16:51:59.27844Z",
     "shell.execute_reply.started": "2021-06-01T16:51:59.274076Z"
    },
    "papermill": {
     "duration": 0.046649,
     "end_time": "2021-06-03T21:53:55.911279",
     "exception": false,
     "start_time": "2021-06-03T21:53:55.864630",
     "status": "completed"
    },
    "tags": []
   },
   "source": [
    "<a id='probability'></a>\n",
    "#### Part II - Probability"
   ]
  },
  {
   "cell_type": "code",
   "execution_count": 19,
   "id": "interstate-mills",
   "metadata": {
    "execution": {
     "iopub.execute_input": "2021-06-03T21:53:56.007953Z",
     "iopub.status.busy": "2021-06-03T21:53:56.007273Z",
     "iopub.status.idle": "2021-06-03T21:53:56.013201Z",
     "shell.execute_reply": "2021-06-03T21:53:56.013720Z",
     "shell.execute_reply.started": "2021-06-03T20:39:41.76884Z"
    },
    "papermill": {
     "duration": 0.056148,
     "end_time": "2021-06-03T21:53:56.013916",
     "exception": false,
     "start_time": "2021-06-03T21:53:55.957768",
     "status": "completed"
    },
    "tags": []
   },
   "outputs": [
    {
     "data": {
      "text/plain": [
       "11.959708724499627"
      ]
     },
     "execution_count": 19,
     "metadata": {},
     "output_type": "execute_result"
    }
   ],
   "source": [
    "# Percent of convergance\n",
    "# The probability of an individual converting regardless of the page they receive\n",
    "df2.converted.mean() * 100"
   ]
  },
  {
   "cell_type": "code",
   "execution_count": 20,
   "id": "mexican-cameroon",
   "metadata": {
    "execution": {
     "iopub.execute_input": "2021-06-03T21:53:56.110353Z",
     "iopub.status.busy": "2021-06-03T21:53:56.109727Z",
     "iopub.status.idle": "2021-06-03T21:53:56.582211Z",
     "shell.execute_reply": "2021-06-03T21:53:56.581557Z",
     "shell.execute_reply.started": "2021-06-03T20:39:42.993076Z"
    },
    "papermill": {
     "duration": 0.521597,
     "end_time": "2021-06-03T21:53:56.582360",
     "exception": false,
     "start_time": "2021-06-03T21:53:56.060763",
     "status": "completed"
    },
    "tags": []
   },
   "outputs": [
    {
     "data": {
      "text/html": [
       "<div>\n",
       "<style scoped>\n",
       "    .dataframe tbody tr th:only-of-type {\n",
       "        vertical-align: middle;\n",
       "    }\n",
       "\n",
       "    .dataframe tbody tr th {\n",
       "        vertical-align: top;\n",
       "    }\n",
       "\n",
       "    .dataframe thead th {\n",
       "        text-align: right;\n",
       "    }\n",
       "</style>\n",
       "<table border=\"1\" class=\"dataframe\">\n",
       "  <thead>\n",
       "    <tr style=\"text-align: right;\">\n",
       "      <th></th>\n",
       "      <th>converted</th>\n",
       "    </tr>\n",
       "    <tr>\n",
       "      <th>group</th>\n",
       "      <th></th>\n",
       "    </tr>\n",
       "  </thead>\n",
       "  <tbody>\n",
       "    <tr>\n",
       "      <th>control</th>\n",
       "      <td>12.038630</td>\n",
       "    </tr>\n",
       "    <tr>\n",
       "      <th>treatment</th>\n",
       "      <td>11.880807</td>\n",
       "    </tr>\n",
       "  </tbody>\n",
       "</table>\n",
       "</div>"
      ],
      "text/plain": [
       "           converted\n",
       "group               \n",
       "control    12.038630\n",
       "treatment  11.880807"
      ]
     },
     "execution_count": 20,
     "metadata": {},
     "output_type": "execute_result"
    }
   ],
   "source": [
    "#Given that an individual was in the control group, what is the probability they converted?\n",
    "#Given that an individual was in the treatment group, what is the probability they converted?\n",
    "df2.user_id = df2.user_id.astype(str)\n",
    "df2.groupby(\"group\").mean() * 100"
   ]
  },
  {
   "cell_type": "code",
   "execution_count": 21,
   "id": "auburn-london",
   "metadata": {
    "execution": {
     "iopub.execute_input": "2021-06-03T21:53:56.740315Z",
     "iopub.status.busy": "2021-06-03T21:53:56.739569Z",
     "iopub.status.idle": "2021-06-03T21:53:56.751047Z",
     "shell.execute_reply": "2021-06-03T21:53:56.750494Z",
     "shell.execute_reply.started": "2021-06-03T20:39:44.840592Z"
    },
    "papermill": {
     "duration": 0.122754,
     "end_time": "2021-06-03T21:53:56.751212",
     "exception": false,
     "start_time": "2021-06-03T21:53:56.628458",
     "status": "completed"
    },
    "tags": []
   },
   "outputs": [
    {
     "data": {
      "text/html": [
       "<div>\n",
       "<style scoped>\n",
       "    .dataframe tbody tr th:only-of-type {\n",
       "        vertical-align: middle;\n",
       "    }\n",
       "\n",
       "    .dataframe tbody tr th {\n",
       "        vertical-align: top;\n",
       "    }\n",
       "\n",
       "    .dataframe thead th {\n",
       "        text-align: right;\n",
       "    }\n",
       "</style>\n",
       "<table border=\"1\" class=\"dataframe\">\n",
       "  <thead>\n",
       "    <tr style=\"text-align: right;\">\n",
       "      <th></th>\n",
       "      <th>landing_page</th>\n",
       "    </tr>\n",
       "  </thead>\n",
       "  <tbody>\n",
       "    <tr>\n",
       "      <th>new_page</th>\n",
       "      <td>50.006194</td>\n",
       "    </tr>\n",
       "    <tr>\n",
       "      <th>old_page</th>\n",
       "      <td>49.993806</td>\n",
       "    </tr>\n",
       "  </tbody>\n",
       "</table>\n",
       "</div>"
      ],
      "text/plain": [
       "          landing_page\n",
       "new_page     50.006194\n",
       "old_page     49.993806"
      ]
     },
     "execution_count": 21,
     "metadata": {},
     "output_type": "execute_result"
    }
   ],
   "source": [
    "#What is the probability that an individual received the new page?\n",
    "pd.DataFrame(df2.landing_page.value_counts(normalize = True) * 100)"
   ]
  },
  {
   "cell_type": "markdown",
   "id": "first-rogers",
   "metadata": {
    "papermill": {
     "duration": 0.045882,
     "end_time": "2021-06-03T21:53:56.844020",
     "exception": false,
     "start_time": "2021-06-03T21:53:56.798138",
     "status": "completed"
    },
    "tags": []
   },
   "source": [
    "#### Is there a sufficient evidence to conclude that the new treatment page leads to more conversions?\n",
    "\n",
    "1. The probability that an individual received the new page is 50%\n",
    "2. The probability of an individual converting regardless of the page they receive is 11.96%\n",
    "3. Given that an individual was in the control group, the probability they converted is 12.04%\n",
    "4. Given that an individual was in the treatment group, the probability they converted is 11.88%\n",
    "\n",
    "1 to 4 suggests that there is no significant difference in convergence between treatment and control groups. Therefore we may conclude that the new treatment page has no impact and does not lead to more conversions."
   ]
  },
  {
   "cell_type": "markdown",
   "id": "catholic-layer",
   "metadata": {
    "papermill": {
     "duration": 0.045692,
     "end_time": "2021-06-03T21:53:56.936509",
     "exception": false,
     "start_time": "2021-06-03T21:53:56.890817",
     "status": "completed"
    },
    "tags": []
   },
   "source": [
    "<a id='ab_test'></a>\n",
    "### Part III - A/B Test\n",
    "\n",
    "Notice that because of the time stamp associated with each event, you could technically run a hypothesis test continuously as each observation was observed.\n",
    "\n",
    "However, then the hard question is do you stop as soon as one page is considered significantly better than another or does it need to happen consistently for a certain amount of time? How long do you run to render a decision that neither page is better than another?\n",
    "\n",
    "These questions are the difficult parts associated with A/B tests in general. "
   ]
  },
  {
   "cell_type": "markdown",
   "id": "surface-craft",
   "metadata": {
    "papermill": {
     "duration": 0.046518,
     "end_time": "2021-06-03T21:53:57.029183",
     "exception": false,
     "start_time": "2021-06-03T21:53:56.982665",
     "status": "completed"
    },
    "tags": []
   },
   "source": [
    "For now, consider you need to make the decision just based on all the data provided. If you want to assume that the old page is better unless the new page proves to be definitely better at a Type I error rate of 5%\n",
    "\n",
    "**$H_{0}$**: **$p_{old}$** - **$p_{new}$** **$>= 0$**\n",
    "\n",
    "**$H_{1}$**: **$p_{old}$** - **$p_{new}$** **$ < 0$**"
   ]
  },
  {
   "cell_type": "code",
   "execution_count": 22,
   "id": "governing-mumbai",
   "metadata": {
    "execution": {
     "iopub.execute_input": "2021-06-03T21:53:57.130464Z",
     "iopub.status.busy": "2021-06-03T21:53:57.129737Z",
     "iopub.status.idle": "2021-06-03T22:26:09.308021Z",
     "shell.execute_reply": "2021-06-03T22:26:09.303791Z",
     "shell.execute_reply.started": "2021-06-03T16:49:34.098499Z"
    },
    "papermill": {
     "duration": 1932.233466,
     "end_time": "2021-06-03T22:26:09.309743",
     "exception": false,
     "start_time": "2021-06-03T21:53:57.076277",
     "status": "completed"
    },
    "tags": []
   },
   "outputs": [],
   "source": [
    "# Creating the sampling distribution of difference in means \n",
    "means_diff = []\n",
    "size = df.shape[0]\n",
    "for _ in range(10000):\n",
    "    sample = df2.sample(size, replace = True)\n",
    "    control_mean = sample[sample[\"group\"] == \"control\"][\"converted\"].mean()\n",
    "    treat_mean = sample[sample[\"group\"] == \"treatment\"][\"converted\"].mean()\n",
    "    means_diff.append(treat_mean - control_mean)"
   ]
  },
  {
   "cell_type": "code",
   "execution_count": 23,
   "id": "understanding-equity",
   "metadata": {
    "execution": {
     "iopub.execute_input": "2021-06-03T22:26:09.444752Z",
     "iopub.status.busy": "2021-06-03T22:26:09.440005Z",
     "iopub.status.idle": "2021-06-03T22:26:09.810326Z",
     "shell.execute_reply": "2021-06-03T22:26:09.810934Z",
     "shell.execute_reply.started": "2021-06-03T17:13:44.343117Z"
    },
    "papermill": {
     "duration": 0.436081,
     "end_time": "2021-06-03T22:26:09.811125",
     "exception": false,
     "start_time": "2021-06-03T22:26:09.375044",
     "status": "completed"
    },
    "tags": []
   },
   "outputs": [
    {
     "data": {
      "image/png": "[encoded data removed]",
      "text/plain": [
       "<Figure size 800x400 with 1 Axes>"
      ]
     },
     "metadata": {
      "needs_background": "light"
     },
     "output_type": "display_data"
    }
   ],
   "source": [
    "# Plotting the sampling distribution \n",
    "plt.figure(figsize = (8,4), dpi = 100)\n",
    "plt.hist(means_diff, bins = 25)\n",
    "plt.show()"
   ]
  },
  {
   "cell_type": "code",
   "execution_count": 24,
   "id": "japanese-equipment",
   "metadata": {
    "execution": {
     "iopub.execute_input": "2021-06-03T22:26:09.923077Z",
     "iopub.status.busy": "2021-06-03T22:26:09.921921Z",
     "iopub.status.idle": "2021-06-03T22:26:09.925680Z",
     "shell.execute_reply": "2021-06-03T22:26:09.925034Z",
     "shell.execute_reply.started": "2021-06-03T17:13:44.562413Z"
    },
    "papermill": {
     "duration": 0.066436,
     "end_time": "2021-06-03T22:26:09.925826",
     "exception": false,
     "start_time": "2021-06-03T22:26:09.859390",
     "status": "completed"
    },
    "tags": []
   },
   "outputs": [],
   "source": [
    "# Simulate distribution under the null hypothesis\n",
    "means_diff = np.array(means_diff)\n",
    "null_vals = np.random.normal(0, means_diff.std(), means_diff.size)"
   ]
  },
  {
   "cell_type": "code",
   "execution_count": 25,
   "id": "diagnostic-affiliate",
   "metadata": {
    "execution": {
     "iopub.execute_input": "2021-06-03T22:26:10.051417Z",
     "iopub.status.busy": "2021-06-03T22:26:10.046806Z",
     "iopub.status.idle": "2021-06-03T22:26:10.220402Z",
     "shell.execute_reply": "2021-06-03T22:26:10.219689Z",
     "shell.execute_reply.started": "2021-06-03T17:13:44.570026Z"
    },
    "papermill": {
     "duration": 0.245572,
     "end_time": "2021-06-03T22:26:10.220552",
     "exception": false,
     "start_time": "2021-06-03T22:26:09.974980",
     "status": "completed"
    },
    "tags": []
   },
   "outputs": [
    {
     "data": {
      "image/png": "[encoded data removed]",
      "text/plain": [
       "<Figure size 800x400 with 1 Axes>"
      ]
     },
     "metadata": {
      "needs_background": "light"
     },
     "output_type": "display_data"
    }
   ],
   "source": [
    "# Plot the null distribution\n",
    "plt.figure(figsize = (8,4), dpi = 100)\n",
    "plt.hist(null_vals, bins = 25)\n",
    "plt.show()"
   ]
  },
  {
   "cell_type": "code",
   "execution_count": 26,
   "id": "whole-justice",
   "metadata": {
    "execution": {
     "iopub.execute_input": "2021-06-03T22:26:10.364491Z",
     "iopub.status.busy": "2021-06-03T22:26:10.363692Z",
     "iopub.status.idle": "2021-06-03T22:26:10.688773Z",
     "shell.execute_reply": "2021-06-03T22:26:10.688236Z",
     "shell.execute_reply.started": "2021-06-03T17:13:44.725409Z"
    },
    "papermill": {
     "duration": 0.418881,
     "end_time": "2021-06-03T22:26:10.688948",
     "exception": false,
     "start_time": "2021-06-03T22:26:10.270067",
     "status": "completed"
    },
    "tags": []
   },
   "outputs": [
    {
     "data": {
      "image/png": "[encoded data removed]",
      "text/plain": [
       "<Figure size 800x400 with 1 Axes>"
      ]
     },
     "metadata": {
      "needs_background": "light"
     },
     "output_type": "display_data"
    }
   ],
   "source": [
    "# Plot observed statistic with the null distibution\n",
    "control_mean = df2[df2[\"group\"] == \"control\"][\"converted\"].mean()\n",
    "treat_mean = df2[df2[\"group\"] == \"treatment\"][\"converted\"].mean()\n",
    "obs_diff = treat_mean - control_mean\n",
    "\n",
    "plt.figure(figsize = (8,4), dpi = 100)\n",
    "plt.hist(null_vals, bins = 25)\n",
    "plt.axvline(obs_diff, c='red')\n",
    "plt.show()"
   ]
  },
  {
   "cell_type": "code",
   "execution_count": 27,
   "id": "august-logan",
   "metadata": {
    "execution": {
     "iopub.execute_input": "2021-06-03T22:26:10.797304Z",
     "iopub.status.busy": "2021-06-03T22:26:10.796383Z",
     "iopub.status.idle": "2021-06-03T22:26:10.800045Z",
     "shell.execute_reply": "2021-06-03T22:26:10.800610Z",
     "shell.execute_reply.started": "2021-06-03T17:13:44.993523Z"
    },
    "papermill": {
     "duration": 0.059951,
     "end_time": "2021-06-03T22:26:10.800796",
     "exception": false,
     "start_time": "2021-06-03T22:26:10.740845",
     "status": "completed"
    },
    "tags": []
   },
   "outputs": [
    {
     "data": {
      "text/plain": [
       "0.9025"
      ]
     },
     "execution_count": 27,
     "metadata": {},
     "output_type": "execute_result"
    }
   ],
   "source": [
    "# calculating the p value \n",
    "(null_vals > obs_diff).mean()"
   ]
  },
  {
   "cell_type": "markdown",
   "id": "complicated-syndrome",
   "metadata": {
    "papermill": {
     "duration": 0.049653,
     "end_time": "2021-06-03T22:26:10.901502",
     "exception": false,
     "start_time": "2021-06-03T22:26:10.851849",
     "status": "completed"
    },
    "tags": []
   },
   "source": [
    "#### Concluding remarks for this section so far:\n",
    "\n",
    "1. The p_value (0.9) is greater than alpha, therefore we fail to reject the null.\n",
    "2. This emphasizes of initial conclusion that there is no significant impact for the new page.\n",
    "\n",
    "We could also use a built-in to achieve similar results. Though using the built-in might be easier to code, the above portions are a walkthrough of the ideas that are critical to correctly thinking about statistical significance."
   ]
  },
  {
   "cell_type": "code",
   "execution_count": 28,
   "id": "official-judge",
   "metadata": {
    "execution": {
     "iopub.execute_input": "2021-06-03T22:26:11.007781Z",
     "iopub.status.busy": "2021-06-03T22:26:11.006789Z",
     "iopub.status.idle": "2021-06-03T22:26:12.511038Z",
     "shell.execute_reply": "2021-06-03T22:26:12.511790Z",
     "shell.execute_reply.started": "2021-06-03T20:39:48.870037Z"
    },
    "papermill": {
     "duration": 1.561027,
     "end_time": "2021-06-03T22:26:12.512005",
     "exception": false,
     "start_time": "2021-06-03T22:26:10.950978",
     "status": "completed"
    },
    "tags": []
   },
   "outputs": [],
   "source": [
    "import statsmodels.api as sm\n",
    "\n",
    "convert_old = df2[(df2[\"converted\"] == 1) & (df2[\"landing_page\"] == \"old_page\")]['user_id'].nunique()\n",
    "convert_new = df2[(df2[\"converted\"] == 1) & (df2[\"landing_page\"] == \"new_page\")]['user_id'].nunique()\n",
    "n_old = df2[df[\"landing_page\"] == \"old_page\"]['user_id'].nunique()\n",
    "n_new = df2[df[\"landing_page\"] == \"new_page\"]['user_id'].nunique()"
   ]
  },
  {
   "cell_type": "code",
   "execution_count": 29,
   "id": "emotional-deviation",
   "metadata": {
    "execution": {
     "iopub.execute_input": "2021-06-03T22:26:12.617845Z",
     "iopub.status.busy": "2021-06-03T22:26:12.616748Z",
     "iopub.status.idle": "2021-06-03T22:26:12.620329Z",
     "shell.execute_reply": "2021-06-03T22:26:12.619637Z",
     "shell.execute_reply.started": "2021-06-03T20:39:49.964092Z"
    },
    "papermill": {
     "duration": 0.059164,
     "end_time": "2021-06-03T22:26:12.620487",
     "exception": false,
     "start_time": "2021-06-03T22:26:12.561323",
     "status": "completed"
    },
    "tags": []
   },
   "outputs": [],
   "source": [
    "#Compute test statistic and p-value\n",
    "z_score, p_value = sm.stats.proportions_ztest(np.array([convert_new,convert_old]),np.array([n_new,n_old]), alternative = 'larger')"
   ]
  },
  {
   "cell_type": "code",
   "execution_count": 30,
   "id": "acknowledged-baptist",
   "metadata": {
    "execution": {
     "iopub.execute_input": "2021-06-03T22:26:12.726845Z",
     "iopub.status.busy": "2021-06-03T22:26:12.725954Z",
     "iopub.status.idle": "2021-06-03T22:26:12.730717Z",
     "shell.execute_reply": "2021-06-03T22:26:12.730215Z",
     "shell.execute_reply.started": "2021-06-03T20:39:49.9722Z"
    },
    "papermill": {
     "duration": 0.060419,
     "end_time": "2021-06-03T22:26:12.730863",
     "exception": false,
     "start_time": "2021-06-03T22:26:12.670444",
     "status": "completed"
    },
    "tags": []
   },
   "outputs": [
    {
     "data": {
      "text/plain": [
       "(-1.3109241984234394, 0.9050583127590245)"
      ]
     },
     "execution_count": 30,
     "metadata": {},
     "output_type": "execute_result"
    }
   ],
   "source": [
    "# Print Z Score and P_Value\n",
    "z_score, p_value "
   ]
  },
  {
   "cell_type": "markdown",
   "id": "polyphonic-edwards",
   "metadata": {
    "papermill": {
     "duration": 0.049632,
     "end_time": "2021-06-03T22:26:12.831479",
     "exception": false,
     "start_time": "2021-06-03T22:26:12.781847",
     "status": "completed"
    },
    "tags": []
   },
   "source": [
    "Using test statistic and p-value, we reach the same coclusion: we can not reject the null "
   ]
  },
  {
   "cell_type": "markdown",
   "id": "external-occurrence",
   "metadata": {
    "papermill": {
     "duration": 0.049779,
     "end_time": "2021-06-03T22:26:12.931696",
     "exception": false,
     "start_time": "2021-06-03T22:26:12.881917",
     "status": "completed"
    },
    "tags": []
   },
   "source": []
  },
  {
   "cell_type": "markdown",
   "id": "ceramic-salon",
   "metadata": {
    "papermill": {
     "duration": 0.050927,
     "end_time": "2021-06-03T22:26:13.033480",
     "exception": false,
     "start_time": "2021-06-03T22:26:12.982553",
     "status": "completed"
    },
    "tags": []
   },
   "source": []
  },
  {
   "cell_type": "markdown",
   "id": "tribal-water",
   "metadata": {
    "papermill": {
     "duration": 0.049162,
     "end_time": "2021-06-03T22:26:13.132640",
     "exception": false,
     "start_time": "2021-06-03T22:26:13.083478",
     "status": "completed"
    },
    "tags": []
   },
   "source": [
    "<a id='regression'></a>\n",
    "### Part IV - Regression\n",
    "\n",
    "In this final part, you will see that the result we achieved in the A/B test Part above can also be achieved by performing regression. Since each row is either a conversion or no conversion, we will use logestic regression to see if there is a significant difference in conversion based on which page a customer receives. However, we first need to create in df2 a column for the intercept, and create a dummy variable column for which page each user received."
   ]
  },
  {
   "cell_type": "code",
   "execution_count": 31,
   "id": "diverse-hudson",
   "metadata": {
    "execution": {
     "iopub.execute_input": "2021-06-03T22:26:13.236269Z",
     "iopub.status.busy": "2021-06-03T22:26:13.235495Z",
     "iopub.status.idle": "2021-06-03T22:26:13.249928Z",
     "shell.execute_reply": "2021-06-03T22:26:13.249294Z",
     "shell.execute_reply.started": "2021-06-03T20:39:50.785369Z"
    },
    "papermill": {
     "duration": 0.068488,
     "end_time": "2021-06-03T22:26:13.250085",
     "exception": false,
     "start_time": "2021-06-03T22:26:13.181597",
     "status": "completed"
    },
    "tags": []
   },
   "outputs": [
    {
     "data": {
      "text/html": [
       "<div>\n",
       "<style scoped>\n",
       "    .dataframe tbody tr th:only-of-type {\n",
       "        vertical-align: middle;\n",
       "    }\n",
       "\n",
       "    .dataframe tbody tr th {\n",
       "        vertical-align: top;\n",
       "    }\n",
       "\n",
       "    .dataframe thead th {\n",
       "        text-align: right;\n",
       "    }\n",
       "</style>\n",
       "<table border=\"1\" class=\"dataframe\">\n",
       "  <thead>\n",
       "    <tr style=\"text-align: right;\">\n",
       "      <th></th>\n",
       "      <th>user_id</th>\n",
       "      <th>timestamp</th>\n",
       "      <th>group</th>\n",
       "      <th>landing_page</th>\n",
       "      <th>converted</th>\n",
       "      <th>intercept</th>\n",
       "    </tr>\n",
       "  </thead>\n",
       "  <tbody>\n",
       "    <tr>\n",
       "      <th>0</th>\n",
       "      <td>851104</td>\n",
       "      <td>11:48.6</td>\n",
       "      <td>control</td>\n",
       "      <td>old_page</td>\n",
       "      <td>0</td>\n",
       "      <td>1</td>\n",
       "    </tr>\n",
       "    <tr>\n",
       "      <th>1</th>\n",
       "      <td>804228</td>\n",
       "      <td>01:45.2</td>\n",
       "      <td>control</td>\n",
       "      <td>old_page</td>\n",
       "      <td>0</td>\n",
       "      <td>1</td>\n",
       "    </tr>\n",
       "    <tr>\n",
       "      <th>2</th>\n",
       "      <td>661590</td>\n",
       "      <td>55:06.2</td>\n",
       "      <td>treatment</td>\n",
       "      <td>new_page</td>\n",
       "      <td>0</td>\n",
       "      <td>1</td>\n",
       "    </tr>\n",
       "    <tr>\n",
       "      <th>3</th>\n",
       "      <td>853541</td>\n",
       "      <td>28:03.1</td>\n",
       "      <td>treatment</td>\n",
       "      <td>new_page</td>\n",
       "      <td>0</td>\n",
       "      <td>1</td>\n",
       "    </tr>\n",
       "    <tr>\n",
       "      <th>4</th>\n",
       "      <td>864975</td>\n",
       "      <td>52:26.2</td>\n",
       "      <td>control</td>\n",
       "      <td>old_page</td>\n",
       "      <td>1</td>\n",
       "      <td>1</td>\n",
       "    </tr>\n",
       "  </tbody>\n",
       "</table>\n",
       "</div>"
      ],
      "text/plain": [
       "  user_id timestamp      group landing_page  converted  intercept\n",
       "0  851104   11:48.6    control     old_page          0          1\n",
       "1  804228   01:45.2    control     old_page          0          1\n",
       "2  661590   55:06.2  treatment     new_page          0          1\n",
       "3  853541   28:03.1  treatment     new_page          0          1\n",
       "4  864975   52:26.2    control     old_page          1          1"
      ]
     },
     "execution_count": 31,
     "metadata": {},
     "output_type": "execute_result"
    }
   ],
   "source": [
    "# Creat the intercept \n",
    "df2[\"intercept\"] = 1\n",
    "df2.head()"
   ]
  },
  {
   "cell_type": "code",
   "execution_count": 32,
   "id": "economic-register",
   "metadata": {
    "execution": {
     "iopub.execute_input": "2021-06-03T22:26:13.359210Z",
     "iopub.status.busy": "2021-06-03T22:26:13.358450Z",
     "iopub.status.idle": "2021-06-03T22:26:13.543284Z",
     "shell.execute_reply": "2021-06-03T22:26:13.542349Z",
     "shell.execute_reply.started": "2021-06-03T20:39:50.804776Z"
    },
    "papermill": {
     "duration": 0.242353,
     "end_time": "2021-06-03T22:26:13.543475",
     "exception": false,
     "start_time": "2021-06-03T22:26:13.301122",
     "status": "completed"
    },
    "tags": []
   },
   "outputs": [
    {
     "data": {
      "text/html": [
       "<div>\n",
       "<style scoped>\n",
       "    .dataframe tbody tr th:only-of-type {\n",
       "        vertical-align: middle;\n",
       "    }\n",
       "\n",
       "    .dataframe tbody tr th {\n",
       "        vertical-align: top;\n",
       "    }\n",
       "\n",
       "    .dataframe thead th {\n",
       "        text-align: right;\n",
       "    }\n",
       "</style>\n",
       "<table border=\"1\" class=\"dataframe\">\n",
       "  <thead>\n",
       "    <tr style=\"text-align: right;\">\n",
       "      <th></th>\n",
       "      <th>user_id</th>\n",
       "      <th>timestamp</th>\n",
       "      <th>group</th>\n",
       "      <th>landing_page</th>\n",
       "      <th>converted</th>\n",
       "      <th>intercept</th>\n",
       "      <th>ab_page</th>\n",
       "    </tr>\n",
       "  </thead>\n",
       "  <tbody>\n",
       "    <tr>\n",
       "      <th>0</th>\n",
       "      <td>851104</td>\n",
       "      <td>11:48.6</td>\n",
       "      <td>control</td>\n",
       "      <td>old_page</td>\n",
       "      <td>0</td>\n",
       "      <td>1</td>\n",
       "      <td>0</td>\n",
       "    </tr>\n",
       "    <tr>\n",
       "      <th>1</th>\n",
       "      <td>804228</td>\n",
       "      <td>01:45.2</td>\n",
       "      <td>control</td>\n",
       "      <td>old_page</td>\n",
       "      <td>0</td>\n",
       "      <td>1</td>\n",
       "      <td>0</td>\n",
       "    </tr>\n",
       "    <tr>\n",
       "      <th>2</th>\n",
       "      <td>661590</td>\n",
       "      <td>55:06.2</td>\n",
       "      <td>treatment</td>\n",
       "      <td>new_page</td>\n",
       "      <td>0</td>\n",
       "      <td>1</td>\n",
       "      <td>1</td>\n",
       "    </tr>\n",
       "    <tr>\n",
       "      <th>3</th>\n",
       "      <td>853541</td>\n",
       "      <td>28:03.1</td>\n",
       "      <td>treatment</td>\n",
       "      <td>new_page</td>\n",
       "      <td>0</td>\n",
       "      <td>1</td>\n",
       "      <td>1</td>\n",
       "    </tr>\n",
       "    <tr>\n",
       "      <th>4</th>\n",
       "      <td>864975</td>\n",
       "      <td>52:26.2</td>\n",
       "      <td>control</td>\n",
       "      <td>old_page</td>\n",
       "      <td>1</td>\n",
       "      <td>1</td>\n",
       "      <td>0</td>\n",
       "    </tr>\n",
       "  </tbody>\n",
       "</table>\n",
       "</div>"
      ],
      "text/plain": [
       "  user_id timestamp      group landing_page  converted  intercept  ab_page\n",
       "0  851104   11:48.6    control     old_page          0          1        0\n",
       "1  804228   01:45.2    control     old_page          0          1        0\n",
       "2  661590   55:06.2  treatment     new_page          0          1        1\n",
       "3  853541   28:03.1  treatment     new_page          0          1        1\n",
       "4  864975   52:26.2    control     old_page          1          1        0"
      ]
     },
     "execution_count": 32,
     "metadata": {},
     "output_type": "execute_result"
    }
   ],
   "source": [
    "# Create ab_page column, which is 1 when an individual receives the treatment and 0 if control.\n",
    "df2[\"ab_page\"] = df2.group.apply(lambda x: 1 if (x == \"treatment\") else 0)\n",
    "df2.head()"
   ]
  },
  {
   "cell_type": "code",
   "execution_count": 33,
   "id": "revised-albert",
   "metadata": {
    "execution": {
     "iopub.execute_input": "2021-06-03T22:26:13.881903Z",
     "iopub.status.busy": "2021-06-03T22:26:13.880266Z",
     "iopub.status.idle": "2021-06-03T22:26:16.338336Z",
     "shell.execute_reply": "2021-06-03T22:26:16.339357Z",
     "shell.execute_reply.started": "2021-06-03T20:39:50.914845Z"
    },
    "papermill": {
     "duration": 2.74231,
     "end_time": "2021-06-03T22:26:16.339665",
     "exception": false,
     "start_time": "2021-06-03T22:26:13.597355",
     "status": "completed"
    },
    "tags": []
   },
   "outputs": [
    {
     "name": "stdout",
     "output_type": "stream",
     "text": [
      "Optimization terminated successfully.\n",
      "         Current function value: 0.366118\n",
      "         Iterations 6\n"
     ]
    },
    {
     "data": {
      "text/html": [
       "<table class=\"simpletable\">\n",
       "<caption>Logit Regression Results</caption>\n",
       "<tr>\n",
       "  <th>Dep. Variable:</th>       <td>converted</td>    <th>  No. Observations:  </th>   <td>290584</td>   \n",
       "</tr>\n",
       "<tr>\n",
       "  <th>Model:</th>                 <td>Logit</td>      <th>  Df Residuals:      </th>   <td>290582</td>   \n",
       "</tr>\n",
       "<tr>\n",
       "  <th>Method:</th>                 <td>MLE</td>       <th>  Df Model:          </th>   <td>     1</td>   \n",
       "</tr>\n",
       "<tr>\n",
       "  <th>Date:</th>            <td>Thu, 03 Jun 2021</td> <th>  Pseudo R-squ.:     </th>  <td>8.077e-06</td> \n",
       "</tr>\n",
       "<tr>\n",
       "  <th>Time:</th>                <td>22:26:16</td>     <th>  Log-Likelihood:    </th> <td>-1.0639e+05</td>\n",
       "</tr>\n",
       "<tr>\n",
       "  <th>converged:</th>             <td>True</td>       <th>  LL-Null:           </th> <td>-1.0639e+05</td>\n",
       "</tr>\n",
       "<tr>\n",
       "  <th>Covariance Type:</th>     <td>nonrobust</td>    <th>  LLR p-value:       </th>   <td>0.1899</td>   \n",
       "</tr>\n",
       "</table>\n",
       "<table class=\"simpletable\">\n",
       "<tr>\n",
       "      <td></td>         <th>coef</th>     <th>std err</th>      <th>z</th>      <th>P>|z|</th>  <th>[0.025</th>    <th>0.975]</th>  \n",
       "</tr>\n",
       "<tr>\n",
       "  <th>intercept</th> <td>   -1.9888</td> <td>    0.008</td> <td> -246.669</td> <td> 0.000</td> <td>   -2.005</td> <td>   -1.973</td>\n",
       "</tr>\n",
       "<tr>\n",
       "  <th>ab_page</th>   <td>   -0.0150</td> <td>    0.011</td> <td>   -1.311</td> <td> 0.190</td> <td>   -0.037</td> <td>    0.007</td>\n",
       "</tr>\n",
       "</table>"
      ],
      "text/plain": [
       "<class 'statsmodels.iolib.summary.Summary'>\n",
       "\"\"\"\n",
       "                           Logit Regression Results                           \n",
       "==============================================================================\n",
       "Dep. Variable:              converted   No. Observations:               290584\n",
       "Model:                          Logit   Df Residuals:                   290582\n",
       "Method:                           MLE   Df Model:                            1\n",
       "Date:                Thu, 03 Jun 2021   Pseudo R-squ.:               8.077e-06\n",
       "Time:                        22:26:16   Log-Likelihood:            -1.0639e+05\n",
       "converged:                       True   LL-Null:                   -1.0639e+05\n",
       "Covariance Type:            nonrobust   LLR p-value:                    0.1899\n",
       "==============================================================================\n",
       "                 coef    std err          z      P>|z|      [0.025      0.975]\n",
       "------------------------------------------------------------------------------\n",
       "intercept     -1.9888      0.008   -246.669      0.000      -2.005      -1.973\n",
       "ab_page       -0.0150      0.011     -1.311      0.190      -0.037       0.007\n",
       "==============================================================================\n",
       "\"\"\""
      ]
     },
     "execution_count": 33,
     "metadata": {},
     "output_type": "execute_result"
    }
   ],
   "source": [
    "# Instantiate and fit the regression model\n",
    "model = sm.Logit(df2['converted'], df2[['intercept','ab_page']])\n",
    "result = model.fit()\n",
    "result.summary()"
   ]
  },
  {
   "cell_type": "markdown",
   "id": "figured-teens",
   "metadata": {
    "papermill": {
     "duration": 0.050332,
     "end_time": "2021-06-03T22:26:16.482839",
     "exception": false,
     "start_time": "2021-06-03T22:26:16.432507",
     "status": "completed"
    },
    "tags": []
   },
   "source": [
    "The P-Value is 0.190, It is different from the one we obtained from the previous analysis because the null hypothesis is different in both cases.\n",
    "\n",
    "We might add additional features to our model such timestamp, the reason for that conversion might differ according to the time at which the user visits the website. But this might come with a disadvantage, the model will become more complicated and less interpretable. It might be also  susceptible to overfitting.\n",
    "\n",
    "\n",
    "We will leave timestamp for now. Instead, along with testing if the conversion rate changes for different pages, we will also add an effect based on which country a user lives in. we will need to read in the countries.csv dataset and merge together your datasets on the appropriate rows."
   ]
  },
  {
   "cell_type": "code",
   "execution_count": 34,
   "id": "american-twins",
   "metadata": {
    "execution": {
     "iopub.execute_input": "2021-06-03T22:26:16.590921Z",
     "iopub.status.busy": "2021-06-03T22:26:16.590237Z",
     "iopub.status.idle": "2021-06-03T22:26:16.783132Z",
     "shell.execute_reply": "2021-06-03T22:26:16.783614Z",
     "shell.execute_reply.started": "2021-06-03T20:39:52.446563Z"
    },
    "papermill": {
     "duration": 0.24937,
     "end_time": "2021-06-03T22:26:16.783811",
     "exception": false,
     "start_time": "2021-06-03T22:26:16.534441",
     "status": "completed"
    },
    "tags": []
   },
   "outputs": [
    {
     "data": {
      "text/html": [
       "<div>\n",
       "<style scoped>\n",
       "    .dataframe tbody tr th:only-of-type {\n",
       "        vertical-align: middle;\n",
       "    }\n",
       "\n",
       "    .dataframe tbody tr th {\n",
       "        vertical-align: top;\n",
       "    }\n",
       "\n",
       "    .dataframe thead th {\n",
       "        text-align: right;\n",
       "    }\n",
       "</style>\n",
       "<table border=\"1\" class=\"dataframe\">\n",
       "  <thead>\n",
       "    <tr style=\"text-align: right;\">\n",
       "      <th></th>\n",
       "      <th>id</th>\n",
       "      <th>country</th>\n",
       "    </tr>\n",
       "  </thead>\n",
       "  <tbody>\n",
       "    <tr>\n",
       "      <th>0</th>\n",
       "      <td>834778</td>\n",
       "      <td>UK</td>\n",
       "    </tr>\n",
       "    <tr>\n",
       "      <th>1</th>\n",
       "      <td>928468</td>\n",
       "      <td>US</td>\n",
       "    </tr>\n",
       "    <tr>\n",
       "      <th>2</th>\n",
       "      <td>822059</td>\n",
       "      <td>UK</td>\n",
       "    </tr>\n",
       "    <tr>\n",
       "      <th>3</th>\n",
       "      <td>711597</td>\n",
       "      <td>UK</td>\n",
       "    </tr>\n",
       "    <tr>\n",
       "      <th>4</th>\n",
       "      <td>710616</td>\n",
       "      <td>UK</td>\n",
       "    </tr>\n",
       "  </tbody>\n",
       "</table>\n",
       "</div>"
      ],
      "text/plain": [
       "       id country\n",
       "0  834778      UK\n",
       "1  928468      US\n",
       "2  822059      UK\n",
       "3  711597      UK\n",
       "4  710616      UK"
      ]
     },
     "execution_count": 34,
     "metadata": {},
     "output_type": "execute_result"
    }
   ],
   "source": [
    "# Read the country data\n",
    "countries = pd.read_csv(\"../input/ecommerce-ab-testing/countries_ab.csv\")\n",
    "countries.head()"
   ]
  },
  {
   "cell_type": "code",
   "execution_count": 35,
   "id": "regulated-painting",
   "metadata": {
    "execution": {
     "iopub.execute_input": "2021-06-03T22:26:16.895330Z",
     "iopub.status.busy": "2021-06-03T22:26:16.894522Z",
     "iopub.status.idle": "2021-06-03T22:26:17.696457Z",
     "shell.execute_reply": "2021-06-03T22:26:17.695839Z",
     "shell.execute_reply.started": "2021-06-03T20:39:52.625295Z"
    },
    "papermill": {
     "duration": 0.860249,
     "end_time": "2021-06-03T22:26:17.696606",
     "exception": false,
     "start_time": "2021-06-03T22:26:16.836357",
     "status": "completed"
    },
    "tags": []
   },
   "outputs": [
    {
     "data": {
      "text/html": [
       "<div>\n",
       "<style scoped>\n",
       "    .dataframe tbody tr th:only-of-type {\n",
       "        vertical-align: middle;\n",
       "    }\n",
       "\n",
       "    .dataframe tbody tr th {\n",
       "        vertical-align: top;\n",
       "    }\n",
       "\n",
       "    .dataframe thead th {\n",
       "        text-align: right;\n",
       "    }\n",
       "</style>\n",
       "<table border=\"1\" class=\"dataframe\">\n",
       "  <thead>\n",
       "    <tr style=\"text-align: right;\">\n",
       "      <th></th>\n",
       "      <th>user_id</th>\n",
       "      <th>timestamp</th>\n",
       "      <th>group</th>\n",
       "      <th>landing_page</th>\n",
       "      <th>converted</th>\n",
       "      <th>intercept</th>\n",
       "      <th>ab_page</th>\n",
       "      <th>country</th>\n",
       "    </tr>\n",
       "  </thead>\n",
       "  <tbody>\n",
       "    <tr>\n",
       "      <th>0</th>\n",
       "      <td>851104</td>\n",
       "      <td>11:48.6</td>\n",
       "      <td>control</td>\n",
       "      <td>old_page</td>\n",
       "      <td>0</td>\n",
       "      <td>1</td>\n",
       "      <td>0</td>\n",
       "      <td>US</td>\n",
       "    </tr>\n",
       "    <tr>\n",
       "      <th>1</th>\n",
       "      <td>804228</td>\n",
       "      <td>01:45.2</td>\n",
       "      <td>control</td>\n",
       "      <td>old_page</td>\n",
       "      <td>0</td>\n",
       "      <td>1</td>\n",
       "      <td>0</td>\n",
       "      <td>US</td>\n",
       "    </tr>\n",
       "    <tr>\n",
       "      <th>2</th>\n",
       "      <td>661590</td>\n",
       "      <td>55:06.2</td>\n",
       "      <td>treatment</td>\n",
       "      <td>new_page</td>\n",
       "      <td>0</td>\n",
       "      <td>1</td>\n",
       "      <td>1</td>\n",
       "      <td>US</td>\n",
       "    </tr>\n",
       "    <tr>\n",
       "      <th>3</th>\n",
       "      <td>853541</td>\n",
       "      <td>28:03.1</td>\n",
       "      <td>treatment</td>\n",
       "      <td>new_page</td>\n",
       "      <td>0</td>\n",
       "      <td>1</td>\n",
       "      <td>1</td>\n",
       "      <td>US</td>\n",
       "    </tr>\n",
       "    <tr>\n",
       "      <th>4</th>\n",
       "      <td>864975</td>\n",
       "      <td>52:26.2</td>\n",
       "      <td>control</td>\n",
       "      <td>old_page</td>\n",
       "      <td>1</td>\n",
       "      <td>1</td>\n",
       "      <td>0</td>\n",
       "      <td>US</td>\n",
       "    </tr>\n",
       "  </tbody>\n",
       "</table>\n",
       "</div>"
      ],
      "text/plain": [
       "  user_id timestamp      group landing_page  converted  intercept  ab_page  \\\n",
       "0  851104   11:48.6    control     old_page          0          1        0   \n",
       "1  804228   01:45.2    control     old_page          0          1        0   \n",
       "2  661590   55:06.2  treatment     new_page          0          1        1   \n",
       "3  853541   28:03.1  treatment     new_page          0          1        1   \n",
       "4  864975   52:26.2    control     old_page          1          1        0   \n",
       "\n",
       "  country  \n",
       "0      US  \n",
       "1      US  \n",
       "2      US  \n",
       "3      US  \n",
       "4      US  "
      ]
     },
     "execution_count": 35,
     "metadata": {},
     "output_type": "execute_result"
    }
   ],
   "source": [
    "# Merge the countries dataframe with df2 \n",
    "countries.columns = [\"user_id\", \"country\"]\n",
    "countries[\"user_id\"] = countries[\"user_id\"].astype(str)\n",
    "df3 = df2.merge(countries, on = \"user_id\", how = \"left\")\n",
    "df3.head()"
   ]
  },
  {
   "cell_type": "code",
   "execution_count": 36,
   "id": "assumed-general",
   "metadata": {
    "execution": {
     "iopub.execute_input": "2021-06-03T22:26:17.823661Z",
     "iopub.status.busy": "2021-06-03T22:26:17.813355Z",
     "iopub.status.idle": "2021-06-03T22:26:17.874732Z",
     "shell.execute_reply": "2021-06-03T22:26:17.874048Z",
     "shell.execute_reply.started": "2021-06-03T20:39:53.200467Z"
    },
    "papermill": {
     "duration": 0.124309,
     "end_time": "2021-06-03T22:26:17.874906",
     "exception": false,
     "start_time": "2021-06-03T22:26:17.750597",
     "status": "completed"
    },
    "tags": []
   },
   "outputs": [
    {
     "data": {
      "text/html": [
       "<div>\n",
       "<style scoped>\n",
       "    .dataframe tbody tr th:only-of-type {\n",
       "        vertical-align: middle;\n",
       "    }\n",
       "\n",
       "    .dataframe tbody tr th {\n",
       "        vertical-align: top;\n",
       "    }\n",
       "\n",
       "    .dataframe thead th {\n",
       "        text-align: right;\n",
       "    }\n",
       "</style>\n",
       "<table border=\"1\" class=\"dataframe\">\n",
       "  <thead>\n",
       "    <tr style=\"text-align: right;\">\n",
       "      <th></th>\n",
       "      <th>user_id</th>\n",
       "      <th>timestamp</th>\n",
       "      <th>group</th>\n",
       "      <th>landing_page</th>\n",
       "      <th>converted</th>\n",
       "      <th>intercept</th>\n",
       "      <th>ab_page</th>\n",
       "      <th>country</th>\n",
       "      <th>CA</th>\n",
       "      <th>UK</th>\n",
       "      <th>US</th>\n",
       "      <th>new_page</th>\n",
       "      <th>old_page</th>\n",
       "    </tr>\n",
       "  </thead>\n",
       "  <tbody>\n",
       "    <tr>\n",
       "      <th>0</th>\n",
       "      <td>851104</td>\n",
       "      <td>11:48.6</td>\n",
       "      <td>control</td>\n",
       "      <td>old_page</td>\n",
       "      <td>0</td>\n",
       "      <td>1</td>\n",
       "      <td>0</td>\n",
       "      <td>US</td>\n",
       "      <td>0</td>\n",
       "      <td>0</td>\n",
       "      <td>1</td>\n",
       "      <td>0</td>\n",
       "      <td>1</td>\n",
       "    </tr>\n",
       "    <tr>\n",
       "      <th>1</th>\n",
       "      <td>804228</td>\n",
       "      <td>01:45.2</td>\n",
       "      <td>control</td>\n",
       "      <td>old_page</td>\n",
       "      <td>0</td>\n",
       "      <td>1</td>\n",
       "      <td>0</td>\n",
       "      <td>US</td>\n",
       "      <td>0</td>\n",
       "      <td>0</td>\n",
       "      <td>1</td>\n",
       "      <td>0</td>\n",
       "      <td>1</td>\n",
       "    </tr>\n",
       "    <tr>\n",
       "      <th>2</th>\n",
       "      <td>661590</td>\n",
       "      <td>55:06.2</td>\n",
       "      <td>treatment</td>\n",
       "      <td>new_page</td>\n",
       "      <td>0</td>\n",
       "      <td>1</td>\n",
       "      <td>1</td>\n",
       "      <td>US</td>\n",
       "      <td>0</td>\n",
       "      <td>0</td>\n",
       "      <td>1</td>\n",
       "      <td>1</td>\n",
       "      <td>0</td>\n",
       "    </tr>\n",
       "    <tr>\n",
       "      <th>3</th>\n",
       "      <td>853541</td>\n",
       "      <td>28:03.1</td>\n",
       "      <td>treatment</td>\n",
       "      <td>new_page</td>\n",
       "      <td>0</td>\n",
       "      <td>1</td>\n",
       "      <td>1</td>\n",
       "      <td>US</td>\n",
       "      <td>0</td>\n",
       "      <td>0</td>\n",
       "      <td>1</td>\n",
       "      <td>1</td>\n",
       "      <td>0</td>\n",
       "    </tr>\n",
       "    <tr>\n",
       "      <th>4</th>\n",
       "      <td>864975</td>\n",
       "      <td>52:26.2</td>\n",
       "      <td>control</td>\n",
       "      <td>old_page</td>\n",
       "      <td>1</td>\n",
       "      <td>1</td>\n",
       "      <td>0</td>\n",
       "      <td>US</td>\n",
       "      <td>0</td>\n",
       "      <td>0</td>\n",
       "      <td>1</td>\n",
       "      <td>0</td>\n",
       "      <td>1</td>\n",
       "    </tr>\n",
       "  </tbody>\n",
       "</table>\n",
       "</div>"
      ],
      "text/plain": [
       "  user_id timestamp      group landing_page  converted  intercept  ab_page  \\\n",
       "0  851104   11:48.6    control     old_page          0          1        0   \n",
       "1  804228   01:45.2    control     old_page          0          1        0   \n",
       "2  661590   55:06.2  treatment     new_page          0          1        1   \n",
       "3  853541   28:03.1  treatment     new_page          0          1        1   \n",
       "4  864975   52:26.2    control     old_page          1          1        0   \n",
       "\n",
       "  country  CA  UK  US  new_page  old_page  \n",
       "0      US   0   0   1         0         1  \n",
       "1      US   0   0   1         0         1  \n",
       "2      US   0   0   1         1         0  \n",
       "3      US   0   0   1         1         0  \n",
       "4      US   0   0   1         0         1  "
      ]
     },
     "execution_count": 36,
     "metadata": {},
     "output_type": "execute_result"
    }
   ],
   "source": [
    "# creating dummies for country and landing_page columns \n",
    "df3[['CA','UK','US']] = pd.get_dummies(df3['country'])\n",
    "df3[['new_page','old_page']] = pd.get_dummies(df3['landing_page'])\n",
    "df3.head()"
   ]
  },
  {
   "cell_type": "code",
   "execution_count": 37,
   "id": "strong-speech",
   "metadata": {
    "execution": {
     "iopub.execute_input": "2021-06-03T22:26:18.027388Z",
     "iopub.status.busy": "2021-06-03T22:26:17.991988Z",
     "iopub.status.idle": "2021-06-03T22:26:18.120429Z",
     "shell.execute_reply": "2021-06-03T22:26:18.120965Z",
     "shell.execute_reply.started": "2021-06-03T20:39:53.256568Z"
    },
    "papermill": {
     "duration": 0.189141,
     "end_time": "2021-06-03T22:26:18.121171",
     "exception": false,
     "start_time": "2021-06-03T22:26:17.932030",
     "status": "completed"
    },
    "tags": []
   },
   "outputs": [
    {
     "data": {
      "text/html": [
       "<div>\n",
       "<style scoped>\n",
       "    .dataframe tbody tr th:only-of-type {\n",
       "        vertical-align: middle;\n",
       "    }\n",
       "\n",
       "    .dataframe tbody tr th {\n",
       "        vertical-align: top;\n",
       "    }\n",
       "\n",
       "    .dataframe thead th {\n",
       "        text-align: right;\n",
       "    }\n",
       "</style>\n",
       "<table border=\"1\" class=\"dataframe\">\n",
       "  <thead>\n",
       "    <tr style=\"text-align: right;\">\n",
       "      <th></th>\n",
       "      <th>converted</th>\n",
       "    </tr>\n",
       "    <tr>\n",
       "      <th>country</th>\n",
       "      <th></th>\n",
       "    </tr>\n",
       "  </thead>\n",
       "  <tbody>\n",
       "    <tr>\n",
       "      <th>UK</th>\n",
       "      <td>12.059449</td>\n",
       "    </tr>\n",
       "    <tr>\n",
       "      <th>US</th>\n",
       "      <td>11.954680</td>\n",
       "    </tr>\n",
       "    <tr>\n",
       "      <th>CA</th>\n",
       "      <td>11.531830</td>\n",
       "    </tr>\n",
       "  </tbody>\n",
       "</table>\n",
       "</div>"
      ],
      "text/plain": [
       "         converted\n",
       "country           \n",
       "UK       12.059449\n",
       "US       11.954680\n",
       "CA       11.531830"
      ]
     },
     "execution_count": 37,
     "metadata": {},
     "output_type": "execute_result"
    }
   ],
   "source": [
    "# lest see if there is a relation between country and conversion\n",
    "pd.pivot_table(data = df3, index = \"country\", values = \"converted\").sort_values(by = \"converted\", ascending = False) * 100"
   ]
  },
  {
   "cell_type": "markdown",
   "id": "hidden-retail",
   "metadata": {
    "papermill": {
     "duration": 0.053134,
     "end_time": "2021-06-03T22:26:18.230044",
     "exception": false,
     "start_time": "2021-06-03T22:26:18.176910",
     "status": "completed"
    },
    "tags": []
   },
   "source": [
    "It seems that coutry has a very minor impact on convergance. we will see its true impact along with ather features in the regression# Instantiate and fit the regression model\n",
    "model = sm.Logit(df2['converted'], df2[['intercept','ab_page']])\n",
    "result = model.fit()\n",
    "result.summary()# Instantiate and fit the regression model\n",
    "model = sm.Logit(df2['converted'], df2[['intercept','ab_page']])\n",
    "result = model.fit()\n",
    "result.summary()"
   ]
  },
  {
   "cell_type": "code",
   "execution_count": 38,
   "id": "effective-premises",
   "metadata": {
    "execution": {
     "iopub.execute_input": "2021-06-03T22:26:18.347671Z",
     "iopub.status.busy": "2021-06-03T22:26:18.346944Z",
     "iopub.status.idle": "2021-06-03T22:26:20.964015Z",
     "shell.execute_reply": "2021-06-03T22:26:20.964898Z",
     "shell.execute_reply.started": "2021-06-03T20:51:00.242149Z"
    },
    "papermill": {
     "duration": 2.679195,
     "end_time": "2021-06-03T22:26:20.965184",
     "exception": false,
     "start_time": "2021-06-03T22:26:18.285989",
     "status": "completed"
    },
    "tags": []
   },
   "outputs": [
    {
     "name": "stdout",
     "output_type": "stream",
     "text": [
      "Optimization terminated successfully.\n",
      "         Current function value: 0.366113\n",
      "         Iterations 6\n"
     ]
    },
    {
     "data": {
      "text/html": [
       "<table class=\"simpletable\">\n",
       "<caption>Logit Regression Results</caption>\n",
       "<tr>\n",
       "  <th>Dep. Variable:</th>       <td>converted</td>    <th>  No. Observations:  </th>   <td>290584</td>   \n",
       "</tr>\n",
       "<tr>\n",
       "  <th>Model:</th>                 <td>Logit</td>      <th>  Df Residuals:      </th>   <td>290580</td>   \n",
       "</tr>\n",
       "<tr>\n",
       "  <th>Method:</th>                 <td>MLE</td>       <th>  Df Model:          </th>   <td>     3</td>   \n",
       "</tr>\n",
       "<tr>\n",
       "  <th>Date:</th>            <td>Thu, 03 Jun 2021</td> <th>  Pseudo R-squ.:     </th>  <td>2.323e-05</td> \n",
       "</tr>\n",
       "<tr>\n",
       "  <th>Time:</th>                <td>22:26:20</td>     <th>  Log-Likelihood:    </th> <td>-1.0639e+05</td>\n",
       "</tr>\n",
       "<tr>\n",
       "  <th>converged:</th>             <td>True</td>       <th>  LL-Null:           </th> <td>-1.0639e+05</td>\n",
       "</tr>\n",
       "<tr>\n",
       "  <th>Covariance Type:</th>     <td>nonrobust</td>    <th>  LLR p-value:       </th>   <td>0.1760</td>   \n",
       "</tr>\n",
       "</table>\n",
       "<table class=\"simpletable\">\n",
       "<tr>\n",
       "      <td></td>         <th>coef</th>     <th>std err</th>      <th>z</th>      <th>P>|z|</th>  <th>[0.025</th>    <th>0.975]</th>  \n",
       "</tr>\n",
       "<tr>\n",
       "  <th>intercept</th> <td>   -2.0300</td> <td>    0.027</td> <td>  -76.249</td> <td> 0.000</td> <td>   -2.082</td> <td>   -1.978</td>\n",
       "</tr>\n",
       "<tr>\n",
       "  <th>ab_page</th>   <td>   -0.0149</td> <td>    0.011</td> <td>   -1.307</td> <td> 0.191</td> <td>   -0.037</td> <td>    0.007</td>\n",
       "</tr>\n",
       "<tr>\n",
       "  <th>UK</th>        <td>    0.0506</td> <td>    0.028</td> <td>    1.784</td> <td> 0.074</td> <td>   -0.005</td> <td>    0.106</td>\n",
       "</tr>\n",
       "<tr>\n",
       "  <th>US</th>        <td>    0.0408</td> <td>    0.027</td> <td>    1.516</td> <td> 0.130</td> <td>   -0.012</td> <td>    0.093</td>\n",
       "</tr>\n",
       "</table>"
      ],
      "text/plain": [
       "<class 'statsmodels.iolib.summary.Summary'>\n",
       "\"\"\"\n",
       "                           Logit Regression Results                           \n",
       "==============================================================================\n",
       "Dep. Variable:              converted   No. Observations:               290584\n",
       "Model:                          Logit   Df Residuals:                   290580\n",
       "Method:                           MLE   Df Model:                            3\n",
       "Date:                Thu, 03 Jun 2021   Pseudo R-squ.:               2.323e-05\n",
       "Time:                        22:26:20   Log-Likelihood:            -1.0639e+05\n",
       "converged:                       True   LL-Null:                   -1.0639e+05\n",
       "Covariance Type:            nonrobust   LLR p-value:                    0.1760\n",
       "==============================================================================\n",
       "                 coef    std err          z      P>|z|      [0.025      0.975]\n",
       "------------------------------------------------------------------------------\n",
       "intercept     -2.0300      0.027    -76.249      0.000      -2.082      -1.978\n",
       "ab_page       -0.0149      0.011     -1.307      0.191      -0.037       0.007\n",
       "UK             0.0506      0.028      1.784      0.074      -0.005       0.106\n",
       "US             0.0408      0.027      1.516      0.130      -0.012       0.093\n",
       "==============================================================================\n",
       "\"\"\""
      ]
     },
     "execution_count": 38,
     "metadata": {},
     "output_type": "execute_result"
    }
   ],
   "source": [
    "# Instantiate and fit the regression model with country as an additional variable: 'CA' is a baseline\n",
    "model = sm.Logit(df3['converted'], df3[['intercept','ab_page', 'UK','US']])\n",
    "result = model.fit()\n",
    "result.summary()"
   ]
  },
  {
   "cell_type": "code",
   "execution_count": 39,
   "id": "simplified-result",
   "metadata": {
    "execution": {
     "iopub.execute_input": "2021-06-03T22:26:21.119494Z",
     "iopub.status.busy": "2021-06-03T22:26:21.117837Z",
     "iopub.status.idle": "2021-06-03T22:26:21.123346Z",
     "shell.execute_reply": "2021-06-03T22:26:21.122772Z",
     "shell.execute_reply.started": "2021-06-03T20:56:33.080434Z"
    },
    "papermill": {
     "duration": 0.066245,
     "end_time": "2021-06-03T22:26:21.123503",
     "exception": false,
     "start_time": "2021-06-03T22:26:21.057258",
     "status": "completed"
    },
    "tags": []
   },
   "outputs": [
    {
     "data": {
      "text/plain": [
       "intercept    0.131332\n",
       "ab_page      0.985168\n",
       "UK           1.051944\n",
       "US           1.041599\n",
       "dtype: float64"
      ]
     },
     "execution_count": 39,
     "metadata": {},
     "output_type": "execute_result"
    }
   ],
   "source": [
    "# exponentiate the parameters to inteprete the result\n",
    "np.exp(result.params)"
   ]
  },
  {
   "cell_type": "markdown",
   "id": "obvious-employee",
   "metadata": {
    "papermill": {
     "duration": 0.054308,
     "end_time": "2021-06-03T22:26:21.232483",
     "exception": false,
     "start_time": "2021-06-03T22:26:21.178175",
     "status": "completed"
    },
    "tags": []
   },
   "source": [
    "All the coefficients are statistically insignificant except the intercept. This comes inline with the initial conclusions that we have just made."
   ]
  },
  {
   "cell_type": "markdown",
   "id": "dress-reduction",
   "metadata": {
    "papermill": {
     "duration": 0.053275,
     "end_time": "2021-06-03T22:26:21.340624",
     "exception": false,
     "start_time": "2021-06-03T22:26:21.287349",
     "status": "completed"
    },
    "tags": []
   },
   "source": [
    "#### Summary:\n",
    "In this notebook we conducted a detailed A/B testing using 3 main methods:\n",
    "1. Sampling distribution\n",
    "2. Z test\n",
    "3. Logestic regression \n",
    "\n",
    "All three methods resulted in the same conclusion: the treatment has no impact."
   ]
  }
 ],
 "metadata": {
  "kernelspec": {
   "display_name": "Python 3",
   "language": "python",
   "name": "python3"
  },
  "language_info": {
   "codemirror_mode": {
    "name": "ipython",
    "version": 3
   },
   "file_extension": ".py",
   "mimetype": "text/x-python",
   "name": "python",
   "nbconvert_exporter": "python",
   "pygments_lexer": "ipython3",
   "version": "3.7.10"
  },
  "papermill": {
   "default_parameters": {},
   "duration": 1960.447923,
   "end_time": "2021-06-03T22:26:22.311768",
   "environment_variables": {},
   "exception": null,
   "input_path": "__notebook__.ipynb",
   "output_path": "__notebook__.ipynb",
   "parameters": {},
   "start_time": "2021-06-03T21:53:41.863845",
   "version": "2.3.3"
  }
 },
 "nbformat": 4,
 "nbformat_minor": 5
}
